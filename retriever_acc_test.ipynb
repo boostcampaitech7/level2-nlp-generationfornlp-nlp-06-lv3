{
 "cells": [
  {
   "cell_type": "markdown",
   "metadata": {},
   "source": [
    "# Retrieval\n"
   ]
  },
  {
   "cell_type": "markdown",
   "metadata": {},
   "source": [
    "## Import\n"
   ]
  },
  {
   "cell_type": "code",
   "execution_count": null,
   "metadata": {},
   "outputs": [],
   "source": [
    "from dotenv import load_dotenv\n",
    "from tqdm import tqdm\n",
    "\n",
    "from rag_modules import combined_key_query_builder, get_retriever, read_csv_for_rag_query, set_columns_from_config\n",
    "from utils import format_docs"
   ]
  },
  {
   "cell_type": "markdown",
   "metadata": {},
   "source": [
    "## Setting\n"
   ]
  },
  {
   "cell_type": "code",
   "execution_count": null,
   "metadata": {},
   "outputs": [
    {
     "data": {
      "text/plain": [
       "True"
      ]
     },
     "execution_count": 3,
     "metadata": {},
     "output_type": "execute_result"
    }
   ],
   "source": [
    "# 환경 변수 세팅\n",
    "load_dotenv()"
   ]
  },
  {
   "cell_type": "code",
   "execution_count": null,
   "metadata": {},
   "outputs": [
    {
     "data": {
      "text/html": [
       "<div>\n",
       "<style scoped>\n",
       "    .dataframe tbody tr th:only-of-type {\n",
       "        vertical-align: middle;\n",
       "    }\n",
       "\n",
       "    .dataframe tbody tr th {\n",
       "        vertical-align: top;\n",
       "    }\n",
       "\n",
       "    .dataframe thead th {\n",
       "        text-align: right;\n",
       "    }\n",
       "</style>\n",
       "<table border=\"1\" class=\"dataframe\">\n",
       "  <thead>\n",
       "    <tr style=\"text-align: right;\">\n",
       "      <th></th>\n",
       "      <th>id</th>\n",
       "      <th>paragraph</th>\n",
       "      <th>question</th>\n",
       "      <th>choices</th>\n",
       "      <th>answer</th>\n",
       "      <th>question_plus</th>\n",
       "      <th>summarization</th>\n",
       "      <th>choices_text</th>\n",
       "      <th>full_question</th>\n",
       "    </tr>\n",
       "  </thead>\n",
       "  <tbody>\n",
       "    <tr>\n",
       "      <th>0</th>\n",
       "      <td>generation-for-nlp-2089</td>\n",
       "      <td>프랑수아 올랑드 프랑스 대통령은 132명의 목숨을 앗아간 ‘11·13 파리 연쇄테러...</td>\n",
       "      <td>프랑수아 올랑드 대통령이 전쟁을 선포한 테러 단체의 이름은 무엇인가?</td>\n",
       "      <td>[알카에다, 이슬람국가(IS), 탈레반, 하마스, 보코하람]</td>\n",
       "      <td>2</td>\n",
       "      <td></td>\n",
       "      <td>프랑수아 올랑드 프랑스 대통령은 ‘11·13 파리 연쇄테러’에 맞서 테러 배후인 이...</td>\n",
       "      <td>알카에다 이슬람국가(IS) 탈레반 하마스 보코하람</td>\n",
       "      <td>프랑수아 올랑드 대통령이 전쟁을 선포한 테러 단체의 이름은 무엇인가?</td>\n",
       "    </tr>\n",
       "    <tr>\n",
       "      <th>1</th>\n",
       "      <td>generation-for-nlp-2001</td>\n",
       "      <td>강원 원주시가 봉화산2지구에서 공동주택용지를 경쟁입찰 방식으로 공급하려다 돌연 수의...</td>\n",
       "      <td>원주시가 봉화산2지구에서 공동주택용지를 공급하기 위해 처음에 어떤 방식으로 계약을 ...</td>\n",
       "      <td>[경쟁입찰 방식, 수의계약 방식, 직접 계약 방식, 공모 방식, 임의 계약 방식]</td>\n",
       "      <td>1</td>\n",
       "      <td></td>\n",
       "      <td>강원 원주시가 봉화산2지구에서 공동주택용지를 경쟁입찰 방식으로 공급하려다 돌연 수의...</td>\n",
       "      <td>경쟁입찰 방식 수의계약 방식 직접 계약 방식 공모 방식 임의 계약 방식</td>\n",
       "      <td>원주시가 봉화산2지구에서 공동주택용지를 공급하기 위해 처음에 어떤 방식으로 계약을 ...</td>\n",
       "    </tr>\n",
       "    <tr>\n",
       "      <th>2</th>\n",
       "      <td>generation-for-nlp-2002</td>\n",
       "      <td>한동안 공급이 뜸했던 경기 파주·포천·양주·의정부 등 수도권 북부지역에서 아파트 분...</td>\n",
       "      <td>수도권 북부지역에서 아파트 분양이 증가하고 있는 주된 이유는 무엇인가?</td>\n",
       "      <td>[전세난과 저금리로 인한 실수요 증가, 부동산 가격 상승으로 인한 투자 수요 증가,...</td>\n",
       "      <td>1</td>\n",
       "      <td></td>\n",
       "      <td>저금리와 전세난 속에 부동산 경기가 회복세를 보이면서 경기 파주·포천·양주·의정부 ...</td>\n",
       "      <td>전세난과 저금리로 인한 실수요 증가 부동산 가격 상승으로 인한 투자 수요 증가 서울...</td>\n",
       "      <td>수도권 북부지역에서 아파트 분양이 증가하고 있는 주된 이유는 무엇인가?</td>\n",
       "    </tr>\n",
       "    <tr>\n",
       "      <th>3</th>\n",
       "      <td>generation-for-nlp-2003</td>\n",
       "      <td>지난 3월 은행 예금회전율이 최근 3년 사이 가장 높은 수준으로 상승했다. 전문가들...</td>\n",
       "      <td>3월 은행 예금회전율이 최근 3년 사이 가장 높은 수준으로 상승한 이유는 무엇인가?</td>\n",
       "      <td>[은행에 머물던 돈이 주식과 부동산으로 이동하고 있기 때문, 소비자들이 예금을 늘리...</td>\n",
       "      <td>1</td>\n",
       "      <td></td>\n",
       "      <td>은행에 묶여 있던 돈이 주식 부동산 등 자산시장으로 이동하고 있고 일부 소비 용도로...</td>\n",
       "      <td>은행에 머물던 돈이 주식과 부동산으로 이동하고 있기 때문 소비자들이 예금을 늘리고 ...</td>\n",
       "      <td>3월 은행 예금회전율이 최근 3년 사이 가장 높은 수준으로 상승한 이유는 무엇인가?</td>\n",
       "    </tr>\n",
       "    <tr>\n",
       "      <th>4</th>\n",
       "      <td>generation-for-nlp-2835</td>\n",
       "      <td>지난해 정부가 발의한 ‘분양가상한제 탄력 적용(사실상 폐지) 법안’이 이달에도 국회...</td>\n",
       "      <td>분양가 상한제가 처음 도입된 정부는 어느 정부인가?</td>\n",
       "      <td>[노무현 정부, 이명박 정부, 박근혜 정부, 문재인 정부, 윤석열 정부]</td>\n",
       "      <td>1</td>\n",
       "      <td></td>\n",
       "      <td>지난해 정부가 발의한 ‘분양가상한제 탄력 적용(사실상 폐지) 법안’이 이달에도 국회...</td>\n",
       "      <td>노무현 정부 이명박 정부 박근혜 정부 문재인 정부 윤석열 정부</td>\n",
       "      <td>분양가 상한제가 처음 도입된 정부는 어느 정부인가?</td>\n",
       "    </tr>\n",
       "  </tbody>\n",
       "</table>\n",
       "</div>"
      ],
      "text/plain": [
       "                        id                                          paragraph  \\\n",
       "0  generation-for-nlp-2089  프랑수아 올랑드 프랑스 대통령은 132명의 목숨을 앗아간 ‘11·13 파리 연쇄테러...   \n",
       "1  generation-for-nlp-2001  강원 원주시가 봉화산2지구에서 공동주택용지를 경쟁입찰 방식으로 공급하려다 돌연 수의...   \n",
       "2  generation-for-nlp-2002  한동안 공급이 뜸했던 경기 파주·포천·양주·의정부 등 수도권 북부지역에서 아파트 분...   \n",
       "3  generation-for-nlp-2003  지난 3월 은행 예금회전율이 최근 3년 사이 가장 높은 수준으로 상승했다. 전문가들...   \n",
       "4  generation-for-nlp-2835  지난해 정부가 발의한 ‘분양가상한제 탄력 적용(사실상 폐지) 법안’이 이달에도 국회...   \n",
       "\n",
       "                                            question  \\\n",
       "0             프랑수아 올랑드 대통령이 전쟁을 선포한 테러 단체의 이름은 무엇인가?   \n",
       "1  원주시가 봉화산2지구에서 공동주택용지를 공급하기 위해 처음에 어떤 방식으로 계약을 ...   \n",
       "2            수도권 북부지역에서 아파트 분양이 증가하고 있는 주된 이유는 무엇인가?   \n",
       "3     3월 은행 예금회전율이 최근 3년 사이 가장 높은 수준으로 상승한 이유는 무엇인가?   \n",
       "4                       분양가 상한제가 처음 도입된 정부는 어느 정부인가?   \n",
       "\n",
       "                                             choices  answer question_plus  \\\n",
       "0                  [알카에다, 이슬람국가(IS), 탈레반, 하마스, 보코하람]       2                 \n",
       "1      [경쟁입찰 방식, 수의계약 방식, 직접 계약 방식, 공모 방식, 임의 계약 방식]       1                 \n",
       "2  [전세난과 저금리로 인한 실수요 증가, 부동산 가격 상승으로 인한 투자 수요 증가,...       1                 \n",
       "3  [은행에 머물던 돈이 주식과 부동산으로 이동하고 있기 때문, 소비자들이 예금을 늘리...       1                 \n",
       "4           [노무현 정부, 이명박 정부, 박근혜 정부, 문재인 정부, 윤석열 정부]       1                 \n",
       "\n",
       "                                       summarization  \\\n",
       "0  프랑수아 올랑드 프랑스 대통령은 ‘11·13 파리 연쇄테러’에 맞서 테러 배후인 이...   \n",
       "1  강원 원주시가 봉화산2지구에서 공동주택용지를 경쟁입찰 방식으로 공급하려다 돌연 수의...   \n",
       "2  저금리와 전세난 속에 부동산 경기가 회복세를 보이면서 경기 파주·포천·양주·의정부 ...   \n",
       "3  은행에 묶여 있던 돈이 주식 부동산 등 자산시장으로 이동하고 있고 일부 소비 용도로...   \n",
       "4  지난해 정부가 발의한 ‘분양가상한제 탄력 적용(사실상 폐지) 법안’이 이달에도 국회...   \n",
       "\n",
       "                                        choices_text  \\\n",
       "0                        알카에다 이슬람국가(IS) 탈레반 하마스 보코하람   \n",
       "1            경쟁입찰 방식 수의계약 방식 직접 계약 방식 공모 방식 임의 계약 방식   \n",
       "2  전세난과 저금리로 인한 실수요 증가 부동산 가격 상승으로 인한 투자 수요 증가 서울...   \n",
       "3  은행에 머물던 돈이 주식과 부동산으로 이동하고 있기 때문 소비자들이 예금을 늘리고 ...   \n",
       "4                 노무현 정부 이명박 정부 박근혜 정부 문재인 정부 윤석열 정부   \n",
       "\n",
       "                                       full_question  \n",
       "0             프랑수아 올랑드 대통령이 전쟁을 선포한 테러 단체의 이름은 무엇인가?  \n",
       "1  원주시가 봉화산2지구에서 공동주택용지를 공급하기 위해 처음에 어떤 방식으로 계약을 ...  \n",
       "2            수도권 북부지역에서 아파트 분양이 증가하고 있는 주된 이유는 무엇인가?  \n",
       "3     3월 은행 예금회전율이 최근 3년 사이 가장 높은 수준으로 상승한 이유는 무엇인가?  \n",
       "4                       분양가 상한제가 처음 도입된 정부는 어느 정부인가?  "
      ]
     },
     "execution_count": 4,
     "metadata": {},
     "output_type": "execute_result"
    }
   ],
   "source": [
    "# valid 내 100개만 실험용 valid로 활용\n",
    "df = read_csv_for_rag_query(\"data/valid_with_summarization.csv\")\n",
    "\n",
    "test_valid = df[:100]\n",
    "test_valid.head()"
   ]
  },
  {
   "cell_type": "code",
   "execution_count": null,
   "metadata": {},
   "outputs": [
    {
     "name": "stdout",
     "output_type": "stream",
     "text": [
      "Connected to Pinecone index: gen-nlp-bge-m3\n"
     ]
    }
   ],
   "source": [
    "# Pinecone retriever 생성\n",
    "retriever = get_retriever(embedding_model=\"BAAI/bge-m3\", k=5)"
   ]
  },
  {
   "cell_type": "markdown",
   "metadata": {},
   "source": [
    "## Retrieve\n"
   ]
  },
  {
   "cell_type": "code",
   "execution_count": null,
   "metadata": {},
   "outputs": [
    {
     "name": "stdout",
     "output_type": "stream",
     "text": [
      "사용되는 column list: ['paragraph', 'full_question', 'choices_text']\n"
     ]
    },
    {
     "name": "stderr",
     "output_type": "stream",
     "text": [
      "Processing rows: 100%|██████████| 100/100 [03:11<00:00,  1.92s/it]\n"
     ]
    }
   ],
   "source": [
    "# config 내 query builder type을 통해 query로 사용할 columns setting\n",
    "columns = set_columns_from_config(3)\n",
    "query_builder = combined_key_query_builder(columns)\n",
    "print(f\"사용되는 column list: {columns}\")\n",
    "\n",
    "# retrieve 결과 저장용 리스트\n",
    "retrieve_results = []\n",
    "\n",
    "# test_valid 내 행들에 대해 retreive 진행\n",
    "for _, row in tqdm(test_valid.iterrows(), total=len(test_valid), desc=\"Processing rows\"):\n",
    "\n",
    "    question_plus_string = (\"\\n\\n<보기>:\\n\" + row[\"question_plus\"]) if row[\"question_plus\"] else \"\"\n",
    "    question = row[\"question\"] + question_plus_string\n",
    "    choices_string = \"\\n\".join([f\"{idx + 1} - {choice}\" for idx, choice in enumerate(row[\"choices\"])])\n",
    "\n",
    "    query = query_builder.build(row)\n",
    "\n",
    "    retrieved_docs = retriever.invoke(query)\n",
    "\n",
    "    support = format_docs(retrieved_docs)\n",
    "\n",
    "    retrieve_results.append(support)"
   ]
  },
  {
   "cell_type": "code",
   "execution_count": null,
   "metadata": {},
   "outputs": [
    {
     "name": "stderr",
     "output_type": "stream",
     "text": [
      "C:\\Users\\yce91\\AppData\\Local\\Temp\\ipykernel_26392\\1288180729.py:2: SettingWithCopyWarning: \n",
      "A value is trying to be set on a copy of a slice from a DataFrame.\n",
      "Try using .loc[row_indexer,col_indexer] = value instead\n",
      "\n",
      "See the caveats in the documentation: https://pandas.pydata.org/pandas-docs/stable/user_guide/indexing.html#returning-a-view-versus-a-copy\n",
      "  test_valid[\"support\"] = retrieve_results\n"
     ]
    },
    {
     "data": {
      "text/html": [
       "<div>\n",
       "<style scoped>\n",
       "    .dataframe tbody tr th:only-of-type {\n",
       "        vertical-align: middle;\n",
       "    }\n",
       "\n",
       "    .dataframe tbody tr th {\n",
       "        vertical-align: top;\n",
       "    }\n",
       "\n",
       "    .dataframe thead th {\n",
       "        text-align: right;\n",
       "    }\n",
       "</style>\n",
       "<table border=\"1\" class=\"dataframe\">\n",
       "  <thead>\n",
       "    <tr style=\"text-align: right;\">\n",
       "      <th></th>\n",
       "      <th>id</th>\n",
       "      <th>paragraph</th>\n",
       "      <th>question</th>\n",
       "      <th>choices</th>\n",
       "      <th>answer</th>\n",
       "      <th>question_plus</th>\n",
       "      <th>summarization</th>\n",
       "      <th>choices_text</th>\n",
       "      <th>full_question</th>\n",
       "      <th>support</th>\n",
       "    </tr>\n",
       "  </thead>\n",
       "  <tbody>\n",
       "    <tr>\n",
       "      <th>0</th>\n",
       "      <td>generation-for-nlp-2089</td>\n",
       "      <td>프랑수아 올랑드 프랑스 대통령은 132명의 목숨을 앗아간 ‘11·13 파리 연쇄테러...</td>\n",
       "      <td>프랑수아 올랑드 대통령이 전쟁을 선포한 테러 단체의 이름은 무엇인가?</td>\n",
       "      <td>[알카에다, 이슬람국가(IS), 탈레반, 하마스, 보코하람]</td>\n",
       "      <td>2</td>\n",
       "      <td></td>\n",
       "      <td>프랑수아 올랑드 프랑스 대통령은 ‘11·13 파리 연쇄테러’에 맞서 테러 배후인 이...</td>\n",
       "      <td>알카에다 이슬람국가(IS) 탈레반 하마스 보코하람</td>\n",
       "      <td>프랑수아 올랑드 대통령이 전쟁을 선포한 테러 단체의 이름은 무엇인가?</td>\n",
       "      <td>시리아 내전 개입\\n2015년 9월 블라디미르 푸틴 러시아 대통령은 그달 30일에 ...</td>\n",
       "    </tr>\n",
       "    <tr>\n",
       "      <th>1</th>\n",
       "      <td>generation-for-nlp-2001</td>\n",
       "      <td>강원 원주시가 봉화산2지구에서 공동주택용지를 경쟁입찰 방식으로 공급하려다 돌연 수의...</td>\n",
       "      <td>원주시가 봉화산2지구에서 공동주택용지를 공급하기 위해 처음에 어떤 방식으로 계약을 ...</td>\n",
       "      <td>[경쟁입찰 방식, 수의계약 방식, 직접 계약 방식, 공모 방식, 임의 계약 방식]</td>\n",
       "      <td>1</td>\n",
       "      <td></td>\n",
       "      <td>강원 원주시가 봉화산2지구에서 공동주택용지를 경쟁입찰 방식으로 공급하려다 돌연 수의...</td>\n",
       "      <td>경쟁입찰 방식 수의계약 방식 직접 계약 방식 공모 방식 임의 계약 방식</td>\n",
       "      <td>원주시가 봉화산2지구에서 공동주택용지를 공급하기 위해 처음에 어떤 방식으로 계약을 ...</td>\n",
       "      <td>경매\\n입찰\\n입찰은 계약체결의 특수한 방법이며 매매·도급(都給) 등의 계약체결에 ...</td>\n",
       "    </tr>\n",
       "    <tr>\n",
       "      <th>2</th>\n",
       "      <td>generation-for-nlp-2002</td>\n",
       "      <td>한동안 공급이 뜸했던 경기 파주·포천·양주·의정부 등 수도권 북부지역에서 아파트 분...</td>\n",
       "      <td>수도권 북부지역에서 아파트 분양이 증가하고 있는 주된 이유는 무엇인가?</td>\n",
       "      <td>[전세난과 저금리로 인한 실수요 증가, 부동산 가격 상승으로 인한 투자 수요 증가,...</td>\n",
       "      <td>1</td>\n",
       "      <td></td>\n",
       "      <td>저금리와 전세난 속에 부동산 경기가 회복세를 보이면서 경기 파주·포천·양주·의정부 ...</td>\n",
       "      <td>전세난과 저금리로 인한 실수요 증가 부동산 가격 상승으로 인한 투자 수요 증가 서울...</td>\n",
       "      <td>수도권 북부지역에서 아파트 분양이 증가하고 있는 주된 이유는 무엇인가?</td>\n",
       "      <td>2014년 청약시장 과열\\n위례신도시는 박근혜 정부의 핵심적인 경제 정책인 초이노믹...</td>\n",
       "    </tr>\n",
       "    <tr>\n",
       "      <th>3</th>\n",
       "      <td>generation-for-nlp-2003</td>\n",
       "      <td>지난 3월 은행 예금회전율이 최근 3년 사이 가장 높은 수준으로 상승했다. 전문가들...</td>\n",
       "      <td>3월 은행 예금회전율이 최근 3년 사이 가장 높은 수준으로 상승한 이유는 무엇인가?</td>\n",
       "      <td>[은행에 머물던 돈이 주식과 부동산으로 이동하고 있기 때문, 소비자들이 예금을 늘리...</td>\n",
       "      <td>1</td>\n",
       "      <td></td>\n",
       "      <td>은행에 묶여 있던 돈이 주식 부동산 등 자산시장으로 이동하고 있고 일부 소비 용도로...</td>\n",
       "      <td>은행에 머물던 돈이 주식과 부동산으로 이동하고 있기 때문 소비자들이 예금을 늘리고 ...</td>\n",
       "      <td>3월 은행 예금회전율이 최근 3년 사이 가장 높은 수준으로 상승한 이유는 무엇인가?</td>\n",
       "      <td>감안하여 자율적으로 결정하도록 하고 있다.\\n   자금의 수요와 공급에 의해 결정된...</td>\n",
       "    </tr>\n",
       "    <tr>\n",
       "      <th>4</th>\n",
       "      <td>generation-for-nlp-2835</td>\n",
       "      <td>지난해 정부가 발의한 ‘분양가상한제 탄력 적용(사실상 폐지) 법안’이 이달에도 국회...</td>\n",
       "      <td>분양가 상한제가 처음 도입된 정부는 어느 정부인가?</td>\n",
       "      <td>[노무현 정부, 이명박 정부, 박근혜 정부, 문재인 정부, 윤석열 정부]</td>\n",
       "      <td>1</td>\n",
       "      <td></td>\n",
       "      <td>지난해 정부가 발의한 ‘분양가상한제 탄력 적용(사실상 폐지) 법안’이 이달에도 국회...</td>\n",
       "      <td>노무현 정부 이명박 정부 박근혜 정부 문재인 정부 윤석열 정부</td>\n",
       "      <td>분양가 상한제가 처음 도입된 정부는 어느 정부인가?</td>\n",
       "      <td>2014년 청약시장 과열\\n위례신도시는 박근혜 정부의 핵심적인 경제 정책인 초이노믹...</td>\n",
       "    </tr>\n",
       "  </tbody>\n",
       "</table>\n",
       "</div>"
      ],
      "text/plain": [
       "                        id                                          paragraph  \\\n",
       "0  generation-for-nlp-2089  프랑수아 올랑드 프랑스 대통령은 132명의 목숨을 앗아간 ‘11·13 파리 연쇄테러...   \n",
       "1  generation-for-nlp-2001  강원 원주시가 봉화산2지구에서 공동주택용지를 경쟁입찰 방식으로 공급하려다 돌연 수의...   \n",
       "2  generation-for-nlp-2002  한동안 공급이 뜸했던 경기 파주·포천·양주·의정부 등 수도권 북부지역에서 아파트 분...   \n",
       "3  generation-for-nlp-2003  지난 3월 은행 예금회전율이 최근 3년 사이 가장 높은 수준으로 상승했다. 전문가들...   \n",
       "4  generation-for-nlp-2835  지난해 정부가 발의한 ‘분양가상한제 탄력 적용(사실상 폐지) 법안’이 이달에도 국회...   \n",
       "\n",
       "                                            question  \\\n",
       "0             프랑수아 올랑드 대통령이 전쟁을 선포한 테러 단체의 이름은 무엇인가?   \n",
       "1  원주시가 봉화산2지구에서 공동주택용지를 공급하기 위해 처음에 어떤 방식으로 계약을 ...   \n",
       "2            수도권 북부지역에서 아파트 분양이 증가하고 있는 주된 이유는 무엇인가?   \n",
       "3     3월 은행 예금회전율이 최근 3년 사이 가장 높은 수준으로 상승한 이유는 무엇인가?   \n",
       "4                       분양가 상한제가 처음 도입된 정부는 어느 정부인가?   \n",
       "\n",
       "                                             choices  answer question_plus  \\\n",
       "0                  [알카에다, 이슬람국가(IS), 탈레반, 하마스, 보코하람]       2                 \n",
       "1      [경쟁입찰 방식, 수의계약 방식, 직접 계약 방식, 공모 방식, 임의 계약 방식]       1                 \n",
       "2  [전세난과 저금리로 인한 실수요 증가, 부동산 가격 상승으로 인한 투자 수요 증가,...       1                 \n",
       "3  [은행에 머물던 돈이 주식과 부동산으로 이동하고 있기 때문, 소비자들이 예금을 늘리...       1                 \n",
       "4           [노무현 정부, 이명박 정부, 박근혜 정부, 문재인 정부, 윤석열 정부]       1                 \n",
       "\n",
       "                                       summarization  \\\n",
       "0  프랑수아 올랑드 프랑스 대통령은 ‘11·13 파리 연쇄테러’에 맞서 테러 배후인 이...   \n",
       "1  강원 원주시가 봉화산2지구에서 공동주택용지를 경쟁입찰 방식으로 공급하려다 돌연 수의...   \n",
       "2  저금리와 전세난 속에 부동산 경기가 회복세를 보이면서 경기 파주·포천·양주·의정부 ...   \n",
       "3  은행에 묶여 있던 돈이 주식 부동산 등 자산시장으로 이동하고 있고 일부 소비 용도로...   \n",
       "4  지난해 정부가 발의한 ‘분양가상한제 탄력 적용(사실상 폐지) 법안’이 이달에도 국회...   \n",
       "\n",
       "                                        choices_text  \\\n",
       "0                        알카에다 이슬람국가(IS) 탈레반 하마스 보코하람   \n",
       "1            경쟁입찰 방식 수의계약 방식 직접 계약 방식 공모 방식 임의 계약 방식   \n",
       "2  전세난과 저금리로 인한 실수요 증가 부동산 가격 상승으로 인한 투자 수요 증가 서울...   \n",
       "3  은행에 머물던 돈이 주식과 부동산으로 이동하고 있기 때문 소비자들이 예금을 늘리고 ...   \n",
       "4                 노무현 정부 이명박 정부 박근혜 정부 문재인 정부 윤석열 정부   \n",
       "\n",
       "                                       full_question  \\\n",
       "0             프랑수아 올랑드 대통령이 전쟁을 선포한 테러 단체의 이름은 무엇인가?   \n",
       "1  원주시가 봉화산2지구에서 공동주택용지를 공급하기 위해 처음에 어떤 방식으로 계약을 ...   \n",
       "2            수도권 북부지역에서 아파트 분양이 증가하고 있는 주된 이유는 무엇인가?   \n",
       "3     3월 은행 예금회전율이 최근 3년 사이 가장 높은 수준으로 상승한 이유는 무엇인가?   \n",
       "4                       분양가 상한제가 처음 도입된 정부는 어느 정부인가?   \n",
       "\n",
       "                                             support  \n",
       "0  시리아 내전 개입\\n2015년 9월 블라디미르 푸틴 러시아 대통령은 그달 30일에 ...  \n",
       "1  경매\\n입찰\\n입찰은 계약체결의 특수한 방법이며 매매·도급(都給) 등의 계약체결에 ...  \n",
       "2  2014년 청약시장 과열\\n위례신도시는 박근혜 정부의 핵심적인 경제 정책인 초이노믹...  \n",
       "3  감안하여 자율적으로 결정하도록 하고 있다.\\n   자금의 수요와 공급에 의해 결정된...  \n",
       "4  2014년 청약시장 과열\\n위례신도시는 박근혜 정부의 핵심적인 경제 정책인 초이노믹...  "
      ]
     },
     "execution_count": 8,
     "metadata": {},
     "output_type": "execute_result"
    }
   ],
   "source": [
    "# 실행 결과 df의 support 열에 저장\n",
    "test_valid[\"support\"] = retrieve_results\n",
    "test_valid.head()"
   ]
  },
  {
   "cell_type": "markdown",
   "metadata": {},
   "source": [
    "# LLM as judge\n"
   ]
  },
  {
   "cell_type": "markdown",
   "metadata": {},
   "source": [
    "## Import\n"
   ]
  },
  {
   "cell_type": "code",
   "execution_count": null,
   "metadata": {},
   "outputs": [],
   "source": [
    "import json\n",
    "import re\n",
    "\n",
    "from langchain_core.prompts import PromptTemplate\n",
    "from langchain_openai import ChatOpenAI"
   ]
  },
  {
   "cell_type": "markdown",
   "metadata": {},
   "source": [
    "## Setting\n"
   ]
  },
  {
   "cell_type": "code",
   "execution_count": null,
   "metadata": {},
   "outputs": [],
   "source": [
    "# Rubric을 활용한 평가 기준 수립\n",
    "\n",
    "template = \"\"\"\n",
    "\n",
    "당신은 유능한 AI 평가위원입니다.\n",
    "\n",
    "당신이 할 일은 주어진 문제 데이터(# Question Data)를 푸는데 지원 문서(# Support)가 얼마나 도움이 되는지 평가하는 것입니다.\n",
    "\n",
    "문제 데이터(# Question Data)는 지문, 문제, 선택지, 정답으로 구성되어 있습니다.\n",
    "\n",
    "평가 기준(# Evaluation Criteria)은 다음의 3가지 입니다. \n",
    "\n",
    "\n",
    "# Evaluation Criteria\n",
    "\n",
    "1. Support 문서에 문제 풀이에 **필요한 정보**가 전부 포함되었는가?(1점)\n",
    "\n",
    "정의: 문제를 해결하기 위해 필수적으로 알아야 하는 정보가 문서에 서술되어 있는 경우 점수를 부여합니다. \n",
    "\n",
    "점수를 받는 경우 Support를 활용하여 문제의 정답을 맞출 수 있습니다.\n",
    "\n",
    "\n",
    "2. Support 문서에 문제 풀이에 **필요한 정보**가 일부 포함되었는가?(1점)\n",
    "\n",
    "정의: 문제를 해결하기 위해 필수적으로 알아야 하는 정보가 문서에 서술되어 있는 경우 점수를 부여합니다. \n",
    "\n",
    "점수를 받는 경우 Support를 활용하여 문제의 정답을 맞출 순 없지만, Support의 존재가 문제 풀이에 도움이 됩니다.\n",
    "\n",
    "\n",
    "3. 문제 풀이에 **필요한 정보**가 Support 문서에서 핵심적으로 다루는 내용인가? (1점)\n",
    "\n",
    "정의:  문제 풀이에 **필요한 정보**가 Support 문서의 주제나 목적과 밀접하게 관련이 있는 경우 점수를 부여합니다.\n",
    "\n",
    "\n",
    "평가는 FORMAT에 맞춰 작성하세요.\n",
    "\n",
    "\n",
    "# FORMAT: \n",
    "\n",
    "총점:(예시:2)\n",
    "\n",
    "각 기준 별 평가 점수:(예시: 1, 1, 0)\n",
    "\n",
    "\n",
    "\n",
    "# Question Data:\n",
    "## 문제:\n",
    "\n",
    "{question}\n",
    "\n",
    "## 선택지:\n",
    "\n",
    "{choices}\n",
    "\n",
    "## 정답:\n",
    "\n",
    "{answer}\n",
    "\n",
    "\n",
    "# Support:\n",
    "\n",
    "{support}\n",
    "\n",
    "\"\"\""
   ]
  },
  {
   "cell_type": "code",
   "execution_count": null,
   "metadata": {},
   "outputs": [],
   "source": [
    "prompt = PromptTemplate(template=template)\n",
    "\n",
    "model = ChatOpenAI(\n",
    "    temperature=0.1,  # 창의성 (0.0 ~ 2.0)\n",
    "    model_name=\"gpt-4o\",  # 모델명\n",
    ").bind(logprobs=True)\n",
    "\n",
    "chain = prompt | model"
   ]
  },
  {
   "cell_type": "code",
   "execution_count": null,
   "metadata": {},
   "outputs": [
    {
     "name": "stderr",
     "output_type": "stream",
     "text": [
      "Processing rows: 100%|██████████| 100/100 [06:30<00:00,  3.91s/it]\n"
     ]
    }
   ],
   "source": [
    "responses = []\n",
    "\n",
    "for _, row in tqdm(test_valid.iterrows(), total=len(test_valid), desc=\"Processing rows\"):\n",
    "    question_plus = \"<보기>\" + row[\"question_plus\"] if row[\"question_plus\"] else \"\"\n",
    "    question_string = \"\\n\".join([row[\"question\"], question_plus])\n",
    "    choices_string = \"\\n\".join([f\"{idx + 1} - {choice}\" for idx, choice in enumerate(row[\"choices\"])])\n",
    "    input_dict = {\n",
    "        \"paragraph\": row[\"paragraph\"],\n",
    "        \"question\": question_string,\n",
    "        \"choices\": choices_string,\n",
    "        \"answer\": row[\"answer\"],\n",
    "        \"support\": row[\"support\"],\n",
    "    }\n",
    "\n",
    "    # chain 실행\n",
    "    response = chain.invoke(input_dict)\n",
    "\n",
    "    # 리스트에 결과 추가\n",
    "    responses.append(response)"
   ]
  },
  {
   "cell_type": "code",
   "execution_count": null,
   "metadata": {},
   "outputs": [],
   "source": [
    "# langchacin 결과를 json 파일로 저장\n",
    "with open(\"data/langchain_response3.json\", \"w\", encoding=\"utf-8\") as file:\n",
    "\n",
    "    for response in responses:\n",
    "\n",
    "        json_line = json.dumps(response.content, ensure_ascii=False)\n",
    "\n",
    "        file.write(json_line + \"\\n\")"
   ]
  },
  {
   "cell_type": "code",
   "execution_count": null,
   "metadata": {},
   "outputs": [],
   "source": [
    "total_scores = []\n",
    "total_score = 0\n",
    "\n",
    "for response in responses:\n",
    "\n",
    "    input_string = response.content\n",
    "\n",
    "    # 정규표현식으로 langchain response 내 앞의 숫자 4개만 추출 (총점, 평가항목1, 평가항목2, 평가항목2)\n",
    "    scores = re.findall(r\"\\d+\", input_string)\n",
    "    scores = list(map(int, responses))[:4]\n",
    "\n",
    "    total_score = total_score + scores[0]\n",
    "\n",
    "    total_scores.append(scores)"
   ]
  },
  {
   "cell_type": "code",
   "execution_count": null,
   "metadata": {},
   "outputs": [
    {
     "data": {
      "text/plain": [
       "[18, 5, 12, 1]"
      ]
     },
     "execution_count": 163,
     "metadata": {},
     "output_type": "execute_result"
    }
   ],
   "source": [
    "sums = [0, 0, 0, 0]\n",
    "\n",
    "# 100개의 내부 리스트를 순회하며 합계를 계산\n",
    "for i in range(len(total_scores)):\n",
    "    for j in range(4):\n",
    "        sums[j] += total_scores[i][j]\n",
    "\n",
    "sums"
   ]
  }
 ],
 "metadata": {
  "kernelspec": {
   "display_name": ".venv",
   "language": "python",
   "name": "python3"
  },
  "language_info": {
   "codemirror_mode": {
    "name": "ipython",
    "version": 3
   },
   "file_extension": ".py",
   "mimetype": "text/x-python",
   "name": "python",
   "nbconvert_exporter": "python",
   "pygments_lexer": "ipython3",
   "version": "3.12.1"
  }
 },
 "nbformat": 4,
 "nbformat_minor": 2
}
