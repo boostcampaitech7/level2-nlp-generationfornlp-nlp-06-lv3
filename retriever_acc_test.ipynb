{
 "cells": [
  {
   "cell_type": "code",
   "execution_count": 1,
   "metadata": {},
   "outputs": [
    {
     "name": "stderr",
     "output_type": "stream",
     "text": [
      "/data/ephemeral/canola/level2-nlp-generationfornlp-nlp-06-lv3/.venv/lib/python3.10/site-packages/tqdm/auto.py:21: TqdmWarning: IProgress not found. Please update jupyter and ipywidgets. See https://ipywidgets.readthedocs.io/en/stable/user_install.html\n",
      "  from .autonotebook import tqdm as notebook_tqdm\n"
     ]
    }
   ],
   "source": [
    "from ast import literal_eval\n",
    "\n",
    "import pandas as pd\n",
    "from tqdm import tqdm\n",
    "import dotenv\n",
    "import argparse\n",
    "from configs import Config, create_rag_config\n",
    "from rag_modules import create_chain, get_retriever, read_csv_for_rag_query, set_columms_from_config\n",
    "from rag_modules import combined_key_query_builder\n",
    "from utils import check_valid_score, format_docs, record_right_answer, set_seed"
   ]
  },
  {
   "cell_type": "code",
   "execution_count": 3,
   "metadata": {},
   "outputs": [],
   "source": [
    "dotenv.load_dotenv()\n",
    "\n",
    "set_seed(42)\n",
    "\n",
    "data_path = \"data/test_v1.0.2.csv\""
   ]
  },
  {
   "cell_type": "code",
   "execution_count": 4,
   "metadata": {},
   "outputs": [
    {
     "name": "stdout",
     "output_type": "stream",
     "text": [
      "Connected to Pinecone index: sling-chunk\n"
     ]
    },
    {
     "name": "stderr",
     "output_type": "stream",
     "text": [
      "Processing rows:   0%|          | 2/869 [00:02<17:29,  1.21s/it]"
     ]
    },
    {
     "name": "stdout",
     "output_type": "stream",
     "text": [
      "[\"작품에는 따끔한 질타나 든든한 격려의 글을 남기기도 한다. 실제로 웹툰 작가들은 댓글을 통해 독자의 피드백을 받는다. 댓글을 통한 디지털 서사의 형성은 곧 '작가->독자'의 일방향 소통에서 '독자<->독자', '작가<->독자'의 다방향 소통으로의 전환이라고 할 수 있다.\\n\\n미술감상은 감상물이 지니고 있는 미를 맛보고자 함을 목표로 하고 있다.  감상물은 한없이 존재하고 있으나 이를 감상물로 택하지 않으면 노방의 돌에 지나지 않는다. 물론 감상자가 어떤 계기가 주어져 감상물과의 마음의 균형이 생겨야만 비로소 '감상'이 성립될 수 있음은 말할 나위조차 없다.  교사와 학생과의 예를 든다면 아무리 교사의 마음에 드는 작품이라 할지라도 학생들에게는 아무런 관심이나 감동도 불러일으키지 못하는 경우가 많다.  교사는 학생들로 하여금 감상물에 대해서 흥미를 갖도록 해야 거기에 감상 교육의 의의가 생겨난다. 2세된 유아조차도 기차나 자동차에는 흥미가 쏠려 밖으로 나가 그것을 보고 싶다고 보챈다. 우리는 여기서 감상의 싹을 엿볼 수 있다.  감상에는 감상물에 대하여 감동을 느낄 수 있는 우수한 감수성과, 청결하고 예리한 감각의 육성에 있음은 말할 필요조차 없으나 거기에 지각이나 지성이 결합되어 발달되어 나간다는 사실을 잊어서는 안 된다.  감상활동을 통해서 지각이나\\n\\n토론(討論, debate)은 의사결정 집단에서 어떠한 관심 주제에 대하여 의견이 다른 상대방과 번갈아가며 공평하게 의사소통하도록 구조화된 사건이다. 상호 소통적인 논증 방식으로 논리적 논증보다 더 큰 범위의 논증에 속한다.\\n하지만 많은 사람들이 토론을 자신의 관점을 관철하고자 하는 사람들이 자신의 공격적인 주장을 두고 벌이는 경쟁으로 인식하고 있는데 이는 잘못된 이해다. 토론은 자신의 논증을 비판적 시각으로 검토하도록 돕고, 새로운 생각을 탐색하게 고무하는 일에 더 가깝다. 쟁점을 비판적으로 검토하고자 하는 사람들 간의 자연스럽고 신나는 상호작용이며, 토론은 새로운 세계, 새로운 기능, 새로운 생각을 가르치는 힘 즉 해방의 잠재력을 갖고 있다. 다른 어떤 지적 노력보다 더 학습의 잠재력을 가지고 있기 때문에 자라나는 학생들이 미래를 준비하게 돕는다.\\n\\n의사소통(意思疏通) 혹은 휴먼 커뮤니케이션(영어: human communication, anthroposemiotics)은 사람의 의사나 감정의 소통으로 '가지고 있는 생각이나 뜻이 서로 통함'이라는 의미를 지니고 있으며, 인간이 사회생활을 하기 위해서 가장 필수적으로 가지고 있어야 하는 능력이다. 상호 간 소통을 위해 사용되는 매체로는 구어(口語)와 문어(文語)는 물론 몸짓, 자세, 표정, 억양, 노래, 춤 등과 같은 비언어적 요소들까지 포함된다. 위와 같은 행동으로 의사소통이 불가능한 사람들을 위해 많은 도구와 치료법이 개발되어 있으며 일반적인 소통을 하는 데에는 거의 문제가 없다. 언어적 능력이 발달하지 않은 동물들의 경우 호르몬이나 변뇨의 냄새 또는 울음소리로 의사소통을 한다. 현대의 경우 인터넷의 발달로 직접적인 소통 외에도 네이버·다음·네이트와 같은 포털 사이트, 페이스북·트위터와 같은 소셜 네트워크 서비스로도 불특정 다수와의 의사소통을 이룰 수 있다.\\n\\n사용의 만족성: 사용을 하면서 사용자가 느끼는 만족스러운 느낌의 경험에 관한 것이다.\\n복잡한 컴퓨터 시스템을 일상 생활에서 사용하려면 적절한 방법으로 사용되어야 하는데, 시장에서 다른 제품/서비스와 경쟁할 만한 가치를 지니고 있어야 한다. 이를 성취하기 위한 여러 방법 중 하나로 최근 이 사용성 분야는 많은 발전과 관심을 끌게 되었다. 이전에 기술중심적인 방법으로 개발하는 것에 비해 제품/서비스와 사용자 간의 상호교감의 경험을 연구하고 이해하여 전통적인 회사 주도의 시장 조사에서는 얻지 못했던 통찰의 지식을 가질 수 있게 한다. 이를 위해 사용성 전문가는 사용자를 관찰하고 만나서 면접을 보는 등의 연구 활동을 통해 필요한 기능과 디자인에 대해 알아내고 고치고 발전시키도록 하는 역할을 수행하게 된다.\", \"작품에는 따끔한 질타나 든든한 격려의 글을 남기기도 한다. 실제로 웹툰 작가들은 댓글을 통해 독자의 피드백을 받는다. 댓글을 통한 디지털 서사의 형성은 곧 '작가->독자'의 일방향 소통에서 '독자<->독자', '작가<->독자'의 다방향 소통으로의 전환이라고 할 수 있다.\\n\\n미술감상은 감상물이 지니고 있는 미를 맛보고자 함을 목표로 하고 있다.  감상물은 한없이 존재하고 있으나 이를 감상물로 택하지 않으면 노방의 돌에 지나지 않는다. 물론 감상자가 어떤 계기가 주어져 감상물과의 마음의 균형이 생겨야만 비로소 '감상'이 성립될 수 있음은 말할 나위조차 없다.  교사와 학생과의 예를 든다면 아무리 교사의 마음에 드는 작품이라 할지라도 학생들에게는 아무런 관심이나 감동도 불러일으키지 못하는 경우가 많다.  교사는 학생들로 하여금 감상물에 대해서 흥미를 갖도록 해야 거기에 감상 교육의 의의가 생겨난다. 2세된 유아조차도 기차나 자동차에는 흥미가 쏠려 밖으로 나가 그것을 보고 싶다고 보챈다. 우리는 여기서 감상의 싹을 엿볼 수 있다.  감상에는 감상물에 대하여 감동을 느낄 수 있는 우수한 감수성과, 청결하고 예리한 감각의 육성에 있음은 말할 필요조차 없으나 거기에 지각이나 지성이 결합되어 발달되어 나간다는 사실을 잊어서는 안 된다.  감상활동을 통해서 지각이나\\n\\n토론(討論, debate)은 의사결정 집단에서 어떠한 관심 주제에 대하여 의견이 다른 상대방과 번갈아가며 공평하게 의사소통하도록 구조화된 사건이다. 상호 소통적인 논증 방식으로 논리적 논증보다 더 큰 범위의 논증에 속한다.\\n하지만 많은 사람들이 토론을 자신의 관점을 관철하고자 하는 사람들이 자신의 공격적인 주장을 두고 벌이는 경쟁으로 인식하고 있는데 이는 잘못된 이해다. 토론은 자신의 논증을 비판적 시각으로 검토하도록 돕고, 새로운 생각을 탐색하게 고무하는 일에 더 가깝다. 쟁점을 비판적으로 검토하고자 하는 사람들 간의 자연스럽고 신나는 상호작용이며, 토론은 새로운 세계, 새로운 기능, 새로운 생각을 가르치는 힘 즉 해방의 잠재력을 갖고 있다. 다른 어떤 지적 노력보다 더 학습의 잠재력을 가지고 있기 때문에 자라나는 학생들이 미래를 준비하게 돕는다.\\n\\n의사소통(意思疏通) 혹은 휴먼 커뮤니케이션(영어: human communication, anthroposemiotics)은 사람의 의사나 감정의 소통으로 '가지고 있는 생각이나 뜻이 서로 통함'이라는 의미를 지니고 있으며, 인간이 사회생활을 하기 위해서 가장 필수적으로 가지고 있어야 하는 능력이다. 상호 간 소통을 위해 사용되는 매체로는 구어(口語)와 문어(文語)는 물론 몸짓, 자세, 표정, 억양, 노래, 춤 등과 같은 비언어적 요소들까지 포함된다. 위와 같은 행동으로 의사소통이 불가능한 사람들을 위해 많은 도구와 치료법이 개발되어 있으며 일반적인 소통을 하는 데에는 거의 문제가 없다. 언어적 능력이 발달하지 않은 동물들의 경우 호르몬이나 변뇨의 냄새 또는 울음소리로 의사소통을 한다. 현대의 경우 인터넷의 발달로 직접적인 소통 외에도 네이버·다음·네이트와 같은 포털 사이트, 페이스북·트위터와 같은 소셜 네트워크 서비스로도 불특정 다수와의 의사소통을 이룰 수 있다.\\n\\n사용의 만족성: 사용을 하면서 사용자가 느끼는 만족스러운 느낌의 경험에 관한 것이다.\\n복잡한 컴퓨터 시스템을 일상 생활에서 사용하려면 적절한 방법으로 사용되어야 하는데, 시장에서 다른 제품/서비스와 경쟁할 만한 가치를 지니고 있어야 한다. 이를 성취하기 위한 여러 방법 중 하나로 최근 이 사용성 분야는 많은 발전과 관심을 끌게 되었다. 이전에 기술중심적인 방법으로 개발하는 것에 비해 제품/서비스와 사용자 간의 상호교감의 경험을 연구하고 이해하여 전통적인 회사 주도의 시장 조사에서는 얻지 못했던 통찰의 지식을 가질 수 있게 한다. 이를 위해 사용성 전문가는 사용자를 관찰하고 만나서 면접을 보는 등의 연구 활동을 통해 필요한 기능과 디자인에 대해 알아내고 고치고 발전시키도록 하는 역할을 수행하게 된다.\"]\n"
     ]
    },
    {
     "name": "stderr",
     "output_type": "stream",
     "text": [
      "\n"
     ]
    }
   ],
   "source": [
    "retriever = get_retriever(embedding_model=\"BAAI/bge-m3\", k=5)\n",
    "\n",
    "# config 내 query builder type을 통해 query로 사용할 columns setting\n",
    "columns = set_columms_from_config(1)\n",
    "query_builder = combined_key_query_builder(columns)\n",
    "\n",
    "# CSV 파일 로드\n",
    "df = read_csv_for_rag_query(file_path=data_path)\n",
    "\n",
    "# 결과 저장용 리스트\n",
    "results = []\n",
    "\n",
    "# Inference\n",
    "for _, row in tqdm(df[:2].iterrows(), total=len(df), desc=\"Processing rows\"):\n",
    "\n",
    "    question_plus_string = (\"\\n\\n<보기>:\\n\" + row[\"question_plus\"]) if row[\"question_plus\"] else \"\"\n",
    "    question = row[\"question\"] + question_plus_string\n",
    "    choices_string = \"\\n\".join([f\"{idx + 1} - {choice}\" for idx, choice in enumerate(row[\"choices\"])])\n",
    "\n",
    "    query = query_builder.build(row)\n",
    "\n",
    "    retrieved_docs = retriever.invoke(query)\n",
    "\n",
    "    support = format_docs(retrieved_docs)\n",
    "    results.append(support)\n",
    "\n",
    "print(results)"
   ]
  },
  {
   "cell_type": "code",
   "execution_count": null,
   "metadata": {},
   "outputs": [],
   "source": [
    "len(results)"
   ]
  }
 ],
 "metadata": {
  "kernelspec": {
   "display_name": ".venv",
   "language": "python",
   "name": "python3"
  },
  "language_info": {
   "codemirror_mode": {
    "name": "ipython",
    "version": 3
   },
   "file_extension": ".py",
   "mimetype": "text/x-python",
   "name": "python",
   "nbconvert_exporter": "python",
   "pygments_lexer": "ipython3",
   "version": "3.10.15"
  }
 },
 "nbformat": 4,
 "nbformat_minor": 2
}
