{
 "cells": [
  {
   "cell_type": "code",
   "execution_count": 1,
   "metadata": {},
   "outputs": [
    {
     "name": "stdout",
     "output_type": "stream",
     "text": [
      "/Users/chan/boostcamp-project/level2-nlp-generationfornlp-nlp-06-lv3\n"
     ]
    },
    {
     "name": "stderr",
     "output_type": "stream",
     "text": [
      "/Users/chan/boostcamp-project/level2-nlp-generationfornlp-nlp-06-lv3/.venv/lib/python3.11/site-packages/IPython/core/magics/osm.py:417: UserWarning: This is now an optional IPython functionality, setting dhist requires you to install the `pickleshare` library.\n",
      "  self.shell.db['dhist'] = compress_dhist(dhist)[-100:]\n"
     ]
    }
   ],
   "source": [
    "%cd .."
   ]
  },
  {
   "cell_type": "code",
   "execution_count": null,
   "metadata": {},
   "outputs": [
    {
     "name": "stderr",
     "output_type": "stream",
     "text": [
      "/Users/chan/boostcamp-project/level2-nlp-generationfornlp-nlp-06-lv3/.venv/lib/python3.11/site-packages/tqdm/auto.py:21: TqdmWarning: IProgress not found. Please update jupyter and ipywidgets. See https://ipywidgets.readthedocs.io/en/stable/user_install.html\n",
      "  from .autonotebook import tqdm as notebook_tqdm\n"
     ]
    }
   ],
   "source": [
    "from augments import KoBESTAugment"
   ]
  },
  {
   "cell_type": "code",
   "execution_count": 3,
   "metadata": {},
   "outputs": [
    {
     "name": "stderr",
     "output_type": "stream",
     "text": [
      "100%|██████████| 10/10 [00:39<00:00,  3.91s/it]\n",
      "100%|██████████| 10/10 [00:06<00:00,  1.53it/s]\n"
     ]
    },
    {
     "data": {
      "text/html": [
       "<div>\n",
       "<style scoped>\n",
       "    .dataframe tbody tr th:only-of-type {\n",
       "        vertical-align: middle;\n",
       "    }\n",
       "\n",
       "    .dataframe tbody tr th {\n",
       "        vertical-align: top;\n",
       "    }\n",
       "\n",
       "    .dataframe thead th {\n",
       "        text-align: right;\n",
       "    }\n",
       "</style>\n",
       "<table border=\"1\" class=\"dataframe\">\n",
       "  <thead>\n",
       "    <tr style=\"text-align: right;\">\n",
       "      <th></th>\n",
       "      <th>paragraph</th>\n",
       "      <th>question</th>\n",
       "      <th>choices</th>\n",
       "      <th>answer</th>\n",
       "      <th>is_valid</th>\n",
       "    </tr>\n",
       "  </thead>\n",
       "  <tbody>\n",
       "    <tr>\n",
       "      <th>728</th>\n",
       "      <td>DNA는 뉴클레오타이드의 중합체인 두 개의 긴 가닥이 서로 꼬여있는 이중나선 구조로...</td>\n",
       "      <td>지문에 따르면, DNA의 주요 기능 중 하나는 무엇인가?</td>\n",
       "      <td>[DNA는 세포의 에너지를 생성하는 역할을 한다., DNA는 유전정보를 통해 유전자...</td>\n",
       "      <td>2</td>\n",
       "      <td>True</td>\n",
       "    </tr>\n",
       "    <tr>\n",
       "      <th>296</th>\n",
       "      <td>브루나이 음식은 종종 매운 맛이 나며, 일반적으로 쌀이나 국수와 함께 먹는다. 브루...</td>\n",
       "      <td>지문에 따르면, 브루나이 음식의 특징으로 옳은 것은?</td>\n",
       "      <td>[브루나이 음식은 일반적으로 매운 맛이 나며, 쌀이나 국수와 함께 제공된다., 브루...</td>\n",
       "      <td>1</td>\n",
       "      <td>True</td>\n",
       "    </tr>\n",
       "    <tr>\n",
       "      <th>35</th>\n",
       "      <td>티탄은 그리스 신화에 등장하는 거대하고 강력한 신의 종족으로 다음 세대인 올림포스 ...</td>\n",
       "      <td>지문에 따르면, 티탄이 그리스 신화에서 차지하는 역할은 무엇인가?</td>\n",
       "      <td>[티탄은 올림포스 신들이 세상을 지배하기 전의 황금 시대를 다스린 신의 종족이다.,...</td>\n",
       "      <td>1</td>\n",
       "      <td>True</td>\n",
       "    </tr>\n",
       "    <tr>\n",
       "      <th>622</th>\n",
       "      <td>버섯 구름(mushroom cloud)은 응축된 수증기나 먼지로 구성된 버섯 형상의...</td>\n",
       "      <td>지문에 따르면, 버섯 구름이 생성되는 주된 원인은 무엇인가?</td>\n",
       "      <td>[핵폭발과 같은 매우 큰 폭발의 결과로 형성된다., 주로 화산 폭발로 인해 자연적으...</td>\n",
       "      <td>1</td>\n",
       "      <td>True</td>\n",
       "    </tr>\n",
       "  </tbody>\n",
       "</table>\n",
       "</div>"
      ],
      "text/plain": [
       "                                             paragraph  \\\n",
       "728  DNA는 뉴클레오타이드의 중합체인 두 개의 긴 가닥이 서로 꼬여있는 이중나선 구조로...   \n",
       "296  브루나이 음식은 종종 매운 맛이 나며, 일반적으로 쌀이나 국수와 함께 먹는다. 브루...   \n",
       "35   티탄은 그리스 신화에 등장하는 거대하고 강력한 신의 종족으로 다음 세대인 올림포스 ...   \n",
       "622  버섯 구름(mushroom cloud)은 응축된 수증기나 먼지로 구성된 버섯 형상의...   \n",
       "\n",
       "                                 question  \\\n",
       "728       지문에 따르면, DNA의 주요 기능 중 하나는 무엇인가?   \n",
       "296         지문에 따르면, 브루나이 음식의 특징으로 옳은 것은?   \n",
       "35   지문에 따르면, 티탄이 그리스 신화에서 차지하는 역할은 무엇인가?   \n",
       "622     지문에 따르면, 버섯 구름이 생성되는 주된 원인은 무엇인가?   \n",
       "\n",
       "                                               choices  answer  is_valid  \n",
       "728  [DNA는 세포의 에너지를 생성하는 역할을 한다., DNA는 유전정보를 통해 유전자...       2      True  \n",
       "296  [브루나이 음식은 일반적으로 매운 맛이 나며, 쌀이나 국수와 함께 제공된다., 브루...       1      True  \n",
       "35   [티탄은 올림포스 신들이 세상을 지배하기 전의 황금 시대를 다스린 신의 종족이다.,...       1      True  \n",
       "622  [핵폭발과 같은 매우 큰 폭발의 결과로 형성된다., 주로 화산 폭발로 인해 자연적으...       1      True  "
      ]
     },
     "execution_count": 3,
     "metadata": {},
     "output_type": "execute_result"
    }
   ],
   "source": [
    "kobest_augment = KoBESTAugment()\n",
    "kobest_augment.sample_data(10)  # 10개 샘플로 생성\n",
    "kobest_augment.process()\n",
    "kobest_augment.data"
   ]
  }
 ],
 "metadata": {
  "kernelspec": {
   "display_name": ".venv",
   "language": "python",
   "name": "python3"
  },
  "language_info": {
   "codemirror_mode": {
    "name": "ipython",
    "version": 3
   },
   "file_extension": ".py",
   "mimetype": "text/x-python",
   "name": "python",
   "nbconvert_exporter": "python",
   "pygments_lexer": "ipython3",
   "version": "3.11.0"
  }
 },
 "nbformat": 4,
 "nbformat_minor": 2
}
