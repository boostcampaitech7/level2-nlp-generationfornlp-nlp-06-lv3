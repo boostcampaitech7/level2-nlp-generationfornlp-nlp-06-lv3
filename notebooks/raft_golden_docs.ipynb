{
 "cells": [
  {
   "cell_type": "markdown",
   "metadata": {},
   "source": [
    "## RAFT 학습용 Golden documents 생성 작업\n",
    "\n",
    "gpt4-o를 사용합니다\n"
   ]
  },
  {
   "cell_type": "code",
   "execution_count": 2,
   "metadata": {},
   "outputs": [],
   "source": [
    "import sys\n",
    "import os\n",
    "\n",
    "# 현재 스크립트의 디렉토리 기준으로 상위 폴더 경로 추가\n",
    "sys.path.append(os.path.abspath(\"../\"))"
   ]
  },
  {
   "cell_type": "code",
   "execution_count": 11,
   "metadata": {},
   "outputs": [],
   "source": [
    "import json\n",
    "\n",
    "import openai\n",
    "import pandas as pd\n",
    "from tqdm import tqdm\n",
    "\n",
    "from dotenv import load_dotenv"
   ]
  },
  {
   "cell_type": "code",
   "execution_count": 10,
   "metadata": {},
   "outputs": [
    {
     "name": "stdout",
     "output_type": "stream",
     "text": [
      "Collecting openai==0.28\n",
      "  Downloading openai-0.28.0-py3-none-any.whl.metadata (13 kB)\n",
      "Requirement already satisfied: requests>=2.20 in c:\\users\\eyeol\\workspace\\level2-nlp-generationfornlp-nlp-06-lv3\\.venv\\lib\\site-packages (from openai==0.28) (2.32.3)\n",
      "Requirement already satisfied: tqdm in c:\\users\\eyeol\\workspace\\level2-nlp-generationfornlp-nlp-06-lv3\\.venv\\lib\\site-packages (from openai==0.28) (4.67.1)\n",
      "Requirement already satisfied: aiohttp in c:\\users\\eyeol\\workspace\\level2-nlp-generationfornlp-nlp-06-lv3\\.venv\\lib\\site-packages (from openai==0.28) (3.9.5)\n",
      "Requirement already satisfied: charset-normalizer<4,>=2 in c:\\users\\eyeol\\workspace\\level2-nlp-generationfornlp-nlp-06-lv3\\.venv\\lib\\site-packages (from requests>=2.20->openai==0.28) (3.4.0)\n",
      "Requirement already satisfied: idna<4,>=2.5 in c:\\users\\eyeol\\workspace\\level2-nlp-generationfornlp-nlp-06-lv3\\.venv\\lib\\site-packages (from requests>=2.20->openai==0.28) (3.10)\n",
      "Requirement already satisfied: urllib3<3,>=1.21.1 in c:\\users\\eyeol\\workspace\\level2-nlp-generationfornlp-nlp-06-lv3\\.venv\\lib\\site-packages (from requests>=2.20->openai==0.28) (2.2.3)\n",
      "Requirement already satisfied: certifi>=2017.4.17 in c:\\users\\eyeol\\workspace\\level2-nlp-generationfornlp-nlp-06-lv3\\.venv\\lib\\site-packages (from requests>=2.20->openai==0.28) (2024.8.30)\n",
      "Requirement already satisfied: aiosignal>=1.1.2 in c:\\users\\eyeol\\workspace\\level2-nlp-generationfornlp-nlp-06-lv3\\.venv\\lib\\site-packages (from aiohttp->openai==0.28) (1.3.1)\n",
      "Requirement already satisfied: attrs>=17.3.0 in c:\\users\\eyeol\\workspace\\level2-nlp-generationfornlp-nlp-06-lv3\\.venv\\lib\\site-packages (from aiohttp->openai==0.28) (24.2.0)\n",
      "Requirement already satisfied: frozenlist>=1.1.1 in c:\\users\\eyeol\\workspace\\level2-nlp-generationfornlp-nlp-06-lv3\\.venv\\lib\\site-packages (from aiohttp->openai==0.28) (1.5.0)\n",
      "Requirement already satisfied: multidict<7.0,>=4.5 in c:\\users\\eyeol\\workspace\\level2-nlp-generationfornlp-nlp-06-lv3\\.venv\\lib\\site-packages (from aiohttp->openai==0.28) (6.1.0)\n",
      "Requirement already satisfied: yarl<2.0,>=1.0 in c:\\users\\eyeol\\workspace\\level2-nlp-generationfornlp-nlp-06-lv3\\.venv\\lib\\site-packages (from aiohttp->openai==0.28) (1.18.0)\n",
      "Requirement already satisfied: colorama in c:\\users\\eyeol\\workspace\\level2-nlp-generationfornlp-nlp-06-lv3\\.venv\\lib\\site-packages (from tqdm->openai==0.28) (0.4.6)\n",
      "Requirement already satisfied: propcache>=0.2.0 in c:\\users\\eyeol\\workspace\\level2-nlp-generationfornlp-nlp-06-lv3\\.venv\\lib\\site-packages (from yarl<2.0,>=1.0->aiohttp->openai==0.28) (0.2.0)\n",
      "Downloading openai-0.28.0-py3-none-any.whl (76 kB)\n",
      "   ---------------------------------------- 0.0/76.5 kB ? eta -:--:--\n",
      "   ---------------------------------------- 76.5/76.5 kB 4.1 MB/s eta 0:00:00\n",
      "Installing collected packages: openai\n",
      "  Attempting uninstall: openai\n",
      "    Found existing installation: openai 1.55.3\n",
      "    Uninstalling openai-1.55.3:\n",
      "      Successfully uninstalled openai-1.55.3\n",
      "Successfully installed openai-0.28.0\n",
      "Note: you may need to restart the kernel to use updated packages.\n"
     ]
    },
    {
     "name": "stderr",
     "output_type": "stream",
     "text": [
      "ERROR: pip's dependency resolver does not currently take into account all the packages that are installed. This behaviour is the source of the following dependency conflicts.\n",
      "langchain-openai 0.2.10 requires openai<2.0.0,>=1.54.0, but you have openai 0.28.0 which is incompatible.\n",
      "\n",
      "[notice] A new release of pip is available: 24.0 -> 24.3.1\n",
      "[notice] To update, run: python.exe -m pip install --upgrade pip\n"
     ]
    }
   ],
   "source": [
    "%pip install openai==0.28"
   ]
  },
  {
   "cell_type": "code",
   "execution_count": null,
   "metadata": {},
   "outputs": [],
   "source": [
    "openai.api_key = os.getenv(\"OPENAI_API_KEY\")\n",
    "\n",
    "# CSV 파일 로드\n",
    "input_file = \"../data/train_v2.0.1.csv\"  # CSV 파일 경로\n",
    "data = pd.read_csv(input_file)"
   ]
  },
  {
   "cell_type": "code",
   "execution_count": 7,
   "metadata": {},
   "outputs": [],
   "source": [
    "# 데이터에서 10개 랜덤 샘플링\n",
    "random_rows = data.sample(n=10, random_state=42)"
   ]
  },
  {
   "cell_type": "code",
   "execution_count": 8,
   "metadata": {},
   "outputs": [
    {
     "data": {
      "text/html": [
       "<div>\n",
       "<style scoped>\n",
       "    .dataframe tbody tr th:only-of-type {\n",
       "        vertical-align: middle;\n",
       "    }\n",
       "\n",
       "    .dataframe tbody tr th {\n",
       "        vertical-align: top;\n",
       "    }\n",
       "\n",
       "    .dataframe thead th {\n",
       "        text-align: right;\n",
       "    }\n",
       "</style>\n",
       "<table border=\"1\" class=\"dataframe\">\n",
       "  <thead>\n",
       "    <tr style=\"text-align: right;\">\n",
       "      <th></th>\n",
       "      <th>id</th>\n",
       "      <th>paragraph</th>\n",
       "      <th>question</th>\n",
       "      <th>choices</th>\n",
       "      <th>answer</th>\n",
       "      <th>question_plus</th>\n",
       "    </tr>\n",
       "  </thead>\n",
       "  <tbody>\n",
       "    <tr>\n",
       "      <th>1284</th>\n",
       "      <td>generation-for-nlp-2003</td>\n",
       "      <td>지난 3월 은행 예금회전율이 최근 3년 사이 가장 높은 수준으로 상승했다. 전문가들...</td>\n",
       "      <td>3월 은행 예금회전율이 최근 3년 사이 가장 높은 수준으로 상승한 이유는 무엇인가?</td>\n",
       "      <td>['은행에 머물던 돈이 주식과 부동산으로 이동하고 있기 때문', '소비자들이 예금을...</td>\n",
       "      <td>1</td>\n",
       "      <td>NaN</td>\n",
       "    </tr>\n",
       "    <tr>\n",
       "      <th>982</th>\n",
       "      <td>generation-for-nlp-1630</td>\n",
       "      <td>8억명이 넘는 유권자가 참여하는 인도 총선이 7일 시작됐다. 다음달 12일까지 한 ...</td>\n",
       "      <td>이번 인도 총선에서 맞대결을 벌이는 두 주요 후보는 누구인가?</td>\n",
       "      <td>['라훌 간디와 나렌드라 모디', '모디와 아르빈드 케지리왈', '라훌 간디와 마야...</td>\n",
       "      <td>1</td>\n",
       "      <td>NaN</td>\n",
       "    </tr>\n",
       "    <tr>\n",
       "      <th>1543</th>\n",
       "      <td>generation-for-nlp-2322</td>\n",
       "      <td>주요 선진국의 공장들이 바빠지고 있다. 내수와 수출 주문이 늘어나고 있어서다. 미국...</td>\n",
       "      <td>미국의 제조업 경기지수가 11월에 기록한 수치는 얼마인가?</td>\n",
       "      <td>['56.4', '57.3', '58.4', '51.6', '54.2']</td>\n",
       "      <td>2</td>\n",
       "      <td>NaN</td>\n",
       "    </tr>\n",
       "    <tr>\n",
       "      <th>593</th>\n",
       "      <td>generation-for-nlp-1148</td>\n",
       "      <td>“나는 한 때 억압의 도구였고 바보처럼 녹색이었다 독점 기업들은 담합해 나 같은 촌...</td>\n",
       "      <td>다음 중 위 노래 가사가 실렸을 법한 곳은 어디입니까?</td>\n",
       "      <td>['1830년대의 노예제 폐지론 신문', '1870년대의 공화당 선전물', '198...</td>\n",
       "      <td>3</td>\n",
       "      <td>NaN</td>\n",
       "    </tr>\n",
       "    <tr>\n",
       "      <th>1292</th>\n",
       "      <td>generation-for-nlp-2011</td>\n",
       "      <td>레드불이 오는 9월 개최되는 지상 최고의 급경사 챌린지 ‘레드불 400’의 두 번째...</td>\n",
       "      <td>레드불 400의 두 번째 트레이닝 프로그램의 이름은 무엇인가?</td>\n",
       "      <td>['Find Your 400', 'Run Solo', 'Red Bull Challe...</td>\n",
       "      <td>1</td>\n",
       "      <td>NaN</td>\n",
       "    </tr>\n",
       "  </tbody>\n",
       "</table>\n",
       "</div>"
      ],
      "text/plain": [
       "                           id  \\\n",
       "1284  generation-for-nlp-2003   \n",
       "982   generation-for-nlp-1630   \n",
       "1543  generation-for-nlp-2322   \n",
       "593   generation-for-nlp-1148   \n",
       "1292  generation-for-nlp-2011   \n",
       "\n",
       "                                              paragraph  \\\n",
       "1284  지난 3월 은행 예금회전율이 최근 3년 사이 가장 높은 수준으로 상승했다. 전문가들...   \n",
       "982   8억명이 넘는 유권자가 참여하는 인도 총선이 7일 시작됐다. 다음달 12일까지 한 ...   \n",
       "1543  주요 선진국의 공장들이 바빠지고 있다. 내수와 수출 주문이 늘어나고 있어서다. 미국...   \n",
       "593   “나는 한 때 억압의 도구였고 바보처럼 녹색이었다 독점 기업들은 담합해 나 같은 촌...   \n",
       "1292  레드불이 오는 9월 개최되는 지상 최고의 급경사 챌린지 ‘레드불 400’의 두 번째...   \n",
       "\n",
       "                                            question  \\\n",
       "1284  3월 은행 예금회전율이 최근 3년 사이 가장 높은 수준으로 상승한 이유는 무엇인가?   \n",
       "982               이번 인도 총선에서 맞대결을 벌이는 두 주요 후보는 누구인가?   \n",
       "1543                미국의 제조업 경기지수가 11월에 기록한 수치는 얼마인가?   \n",
       "593                   다음 중 위 노래 가사가 실렸을 법한 곳은 어디입니까?   \n",
       "1292              레드불 400의 두 번째 트레이닝 프로그램의 이름은 무엇인가?   \n",
       "\n",
       "                                                choices  answer question_plus  \n",
       "1284  ['은행에 머물던 돈이 주식과 부동산으로 이동하고 있기 때문', '소비자들이 예금을...       1           NaN  \n",
       "982   ['라훌 간디와 나렌드라 모디', '모디와 아르빈드 케지리왈', '라훌 간디와 마야...       1           NaN  \n",
       "1543           ['56.4', '57.3', '58.4', '51.6', '54.2']       2           NaN  \n",
       "593   ['1830년대의 노예제 폐지론 신문', '1870년대의 공화당 선전물', '198...       3           NaN  \n",
       "1292  ['Find Your 400', 'Run Solo', 'Red Bull Challe...       1           NaN  "
      ]
     },
     "execution_count": 8,
     "metadata": {},
     "output_type": "execute_result"
    }
   ],
   "source": [
    "random_rows.head()"
   ]
  },
  {
   "cell_type": "markdown",
   "metadata": {},
   "source": [
    "## 잘 되는지 테스트\n"
   ]
  },
  {
   "cell_type": "code",
   "execution_count": 13,
   "metadata": {},
   "outputs": [
    {
     "name": "stderr",
     "output_type": "stream",
     "text": [
      "Processing Golden Documents:   0%|          | 0/10 [00:00<?, ?it/s]\n"
     ]
    },
    {
     "ename": "APIRemovedInV1",
     "evalue": "\n\nYou tried to access openai.ChatCompletion, but this is no longer supported in openai>=1.0.0 - see the README at https://github.com/openai/openai-python for the API.\n\nYou can run `openai migrate` to automatically upgrade your codebase to use the 1.0.0 interface. \n\nAlternatively, you can pin your installation to the old version, e.g. `pip install openai==0.28`\n\nA detailed migration guide is available here: https://github.com/openai/openai-python/discussions/742\n",
     "output_type": "error",
     "traceback": [
      "\u001b[1;31m---------------------------------------------------------------------------\u001b[0m",
      "\u001b[1;31mAPIRemovedInV1\u001b[0m                            Traceback (most recent call last)",
      "Cell \u001b[1;32mIn[13], line 35\u001b[0m\n\u001b[0;32m     12\u001b[0m prompt \u001b[38;5;241m=\u001b[39m (\n\u001b[0;32m     13\u001b[0m     \u001b[38;5;124m\"\u001b[39m\u001b[38;5;124m당신은 문제 풀이에 필요한 `보조 문서`를 생성하는 데 도움을 주는 전문가입니다.\u001b[39m\u001b[38;5;130;01m\\n\u001b[39;00m\u001b[38;5;124m\"\u001b[39m\n\u001b[0;32m     14\u001b[0m     \u001b[38;5;124m\"\u001b[39m\u001b[38;5;130;01m\\n\u001b[39;00m\u001b[38;5;124m\"\u001b[39m\n\u001b[1;32m   (...)\u001b[0m\n\u001b[0;32m     31\u001b[0m     \u001b[38;5;124m\"\u001b[39m\u001b[38;5;124m### `보조 문서`:\u001b[39m\u001b[38;5;130;01m\\n\u001b[39;00m\u001b[38;5;124m\"\u001b[39m\n\u001b[0;32m     32\u001b[0m )\u001b[38;5;241m.\u001b[39mformat(paragraph\u001b[38;5;241m=\u001b[39mparagraph, question\u001b[38;5;241m=\u001b[39mquestion, choices\u001b[38;5;241m=\u001b[39mchoices, answer\u001b[38;5;241m=\u001b[39manswer)\n\u001b[0;32m     34\u001b[0m \u001b[38;5;66;03m# GPT-4 API 호출\u001b[39;00m\n\u001b[1;32m---> 35\u001b[0m response \u001b[38;5;241m=\u001b[39m \u001b[43mopenai\u001b[49m\u001b[38;5;241;43m.\u001b[39;49m\u001b[43mChatCompletion\u001b[49m\u001b[38;5;241;43m.\u001b[39;49m\u001b[43mcreate\u001b[49m\u001b[43m(\u001b[49m\n\u001b[0;32m     36\u001b[0m \u001b[43m    \u001b[49m\u001b[43mmodel\u001b[49m\u001b[38;5;241;43m=\u001b[39;49m\u001b[38;5;124;43m\"\u001b[39;49m\u001b[38;5;124;43mgpt-4o\u001b[39;49m\u001b[38;5;124;43m\"\u001b[39;49m\u001b[43m,\u001b[49m\u001b[43m  \u001b[49m\u001b[38;5;66;43;03m# 사용할 모델 지정\u001b[39;49;00m\n\u001b[0;32m     37\u001b[0m \u001b[43m    \u001b[49m\u001b[43mmessages\u001b[49m\u001b[38;5;241;43m=\u001b[39;49m\u001b[43m[\u001b[49m\n\u001b[0;32m     38\u001b[0m \u001b[43m        \u001b[49m\u001b[43m{\u001b[49m\u001b[38;5;124;43m\"\u001b[39;49m\u001b[38;5;124;43mrole\u001b[39;49m\u001b[38;5;124;43m\"\u001b[39;49m\u001b[43m:\u001b[49m\u001b[43m \u001b[49m\u001b[38;5;124;43m\"\u001b[39;49m\u001b[38;5;124;43muser\u001b[39;49m\u001b[38;5;124;43m\"\u001b[39;49m\u001b[43m,\u001b[49m\u001b[43m \u001b[49m\u001b[38;5;124;43m\"\u001b[39;49m\u001b[38;5;124;43mcontent\u001b[39;49m\u001b[38;5;124;43m\"\u001b[39;49m\u001b[43m:\u001b[49m\u001b[43m \u001b[49m\u001b[43mprompt\u001b[49m\u001b[43m}\u001b[49m\u001b[43m,\u001b[49m\n\u001b[0;32m     39\u001b[0m \u001b[43m    \u001b[49m\u001b[43m]\u001b[49m\u001b[43m,\u001b[49m\n\u001b[0;32m     40\u001b[0m \u001b[43m\u001b[49m\u001b[43m)\u001b[49m\n\u001b[0;32m     42\u001b[0m \u001b[38;5;66;03m# Golden 문서 저장\u001b[39;00m\n\u001b[0;32m     43\u001b[0m golden_document \u001b[38;5;241m=\u001b[39m response[\u001b[38;5;124m\"\u001b[39m\u001b[38;5;124mchoices\u001b[39m\u001b[38;5;124m\"\u001b[39m][\u001b[38;5;241m0\u001b[39m][\u001b[38;5;124m\"\u001b[39m\u001b[38;5;124mmessage\u001b[39m\u001b[38;5;124m\"\u001b[39m][\u001b[38;5;124m\"\u001b[39m\u001b[38;5;124mcontent\u001b[39m\u001b[38;5;124m\"\u001b[39m]\n",
      "File \u001b[1;32mc:\\Users\\eyeol\\workspace\\level2-nlp-generationfornlp-nlp-06-lv3\\.venv\\Lib\\site-packages\\openai\\lib\\_old_api.py:39\u001b[0m, in \u001b[0;36mAPIRemovedInV1Proxy.__call__\u001b[1;34m(self, *_args, **_kwargs)\u001b[0m\n\u001b[0;32m     38\u001b[0m \u001b[38;5;28;01mdef\u001b[39;00m \u001b[38;5;21m__call__\u001b[39m(\u001b[38;5;28mself\u001b[39m, \u001b[38;5;241m*\u001b[39m_args: Any, \u001b[38;5;241m*\u001b[39m\u001b[38;5;241m*\u001b[39m_kwargs: Any) \u001b[38;5;241m-\u001b[39m\u001b[38;5;241m>\u001b[39m Any:\n\u001b[1;32m---> 39\u001b[0m     \u001b[38;5;28;01mraise\u001b[39;00m APIRemovedInV1(symbol\u001b[38;5;241m=\u001b[39m\u001b[38;5;28mself\u001b[39m\u001b[38;5;241m.\u001b[39m_symbol)\n",
      "\u001b[1;31mAPIRemovedInV1\u001b[0m: \n\nYou tried to access openai.ChatCompletion, but this is no longer supported in openai>=1.0.0 - see the README at https://github.com/openai/openai-python for the API.\n\nYou can run `openai migrate` to automatically upgrade your codebase to use the 1.0.0 interface. \n\nAlternatively, you can pin your installation to the old version, e.g. `pip install openai==0.28`\n\nA detailed migration guide is available here: https://github.com/openai/openai-python/discussions/742\n"
     ]
    }
   ],
   "source": [
    "# 결과 저장 리스트\n",
    "golden_documents = []\n",
    "\n",
    "# 각 데이터 처리\n",
    "for index, row in tqdm(random_rows.iterrows(), total=len(random_rows), desc=\"Processing Golden Documents\"):\n",
    "    paragraph = row[\"paragraph\"]\n",
    "    question = row[\"question\"]\n",
    "    choices = row[\"choices\"]\n",
    "    answer = row[\"answer\"]\n",
    "\n",
    "    # GPT-4 프롬프트 생성\n",
    "    prompt = (\n",
    "        \"당신은 문제 풀이에 필요한 `보조 문서`를 생성하는 데 도움을 주는 전문가입니다.\\n\"\n",
    "        \"\\n\"\n",
    "        \"제가 제공하는 내용은 다음과 같습니다:\\n\"\n",
    "        \"1. `문단`: 문제와 관련된 문맥을 제공합니다.\\n\"\n",
    "        \"2. `질문`: 답변이 필요한 질문입니다.\\n\"\n",
    "        \"3. `보기`: 정답과 오답이 포함된 선택지입니다.\\n\"\n",
    "        \"4. `정답`: 문제의 실제 정답 선택지 번호입니다.\\n\"\n",
    "        \"\\n\"\n",
    "        \"당신의 작업은 다음과 같습니다:\\n\"\n",
    "        \"1. 주어진 질문을 정확히 풀기 위해 필요한 정보를 담은 `보조 문서`를 생성합니다.\\n\"\n",
    "        \"2. 질문과 관련이 없는 불필요한 정보를 제외합니다.\\n\"\n",
    "        \"\\n\"\n",
    "        \"### 제공된 내용:\\n\"\n",
    "        \"- 문단: {paragraph}\\n\"\n",
    "        \"- 질문: {question}\\n\"\n",
    "        \"- 보기: {choices}\\n\"\n",
    "        \"- 정답: {answer}\\n\"\n",
    "        \"\\n\"\n",
    "        \"### `보조 문서`:\\n\"\n",
    "    ).format(paragraph=paragraph, question=question, choices=choices, answer=answer)\n",
    "\n",
    "    # GPT-4 API 호출\n",
    "    response = openai.ChatCompletion.create(\n",
    "        model=\"gpt-4o\",  # 사용할 모델 지정\n",
    "        messages=[\n",
    "            {\"role\": \"user\", \"content\": prompt},\n",
    "        ],\n",
    "    )\n",
    "\n",
    "    # Golden 문서 저장\n",
    "    golden_document = response[\"choices\"][0][\"message\"][\"content\"]\n",
    "    golden_documents.append(golden_document)"
   ]
  },
  {
   "cell_type": "code",
   "execution_count": 14,
   "metadata": {},
   "outputs": [
    {
     "ename": "NameError",
     "evalue": "name 'golden_document' is not defined",
     "output_type": "error",
     "traceback": [
      "\u001b[1;31m---------------------------------------------------------------------------\u001b[0m",
      "\u001b[1;31mNameError\u001b[0m                                 Traceback (most recent call last)",
      "Cell \u001b[1;32mIn[14], line 1\u001b[0m\n\u001b[1;32m----> 1\u001b[0m \u001b[43mgolden_document\u001b[49m\n",
      "\u001b[1;31mNameError\u001b[0m: name 'golden_document' is not defined"
     ]
    }
   ],
   "source": [
    "golden_document"
   ]
  },
  {
   "cell_type": "markdown",
   "metadata": {},
   "source": [
    "## Golden doc 생성\n"
   ]
  },
  {
   "cell_type": "code",
   "execution_count": null,
   "metadata": {},
   "outputs": [
    {
     "name": "stderr",
     "output_type": "stream",
     "text": [
      "Processing Golden Documents: 100%|██████████| 1627/1627 [2:05:35<00:00,  4.63s/it]  \n"
     ]
    }
   ],
   "source": [
    "# 결과 저장 리스트\n",
    "golden_documents = []\n",
    "\n",
    "# 각 데이터 처리\n",
    "for index, row in tqdm(data.iterrows(), total=len(data), desc=\"Processing Golden Documents\"):\n",
    "    paragraph = row[\"paragraph\"]\n",
    "    question = row[\"question\"]\n",
    "    choices = row[\"choices\"]\n",
    "    answer = row[\"answer\"]\n",
    "\n",
    "    # GPT-4 프롬프트 생성\n",
    "    prompt = (\n",
    "        \"당신은 문제 풀이에 필요한 `보조 문서`를 생성하는 데 도움을 주는 전문가입니다.\\n\"\n",
    "        \"\\n\"\n",
    "        \"제가 제공하는 내용은 다음과 같습니다:\\n\"\n",
    "        \"1. `문단`: 문제와 관련된 문맥을 제공합니다.\\n\"\n",
    "        \"2. `질문`: 답변이 필요한 질문입니다.\\n\"\n",
    "        \"3. `보기`: 정답과 오답이 포함된 선택지입니다.\\n\"\n",
    "        \"4. `정답`: 문제의 실제 정답 선택지 번호입니다.\\n\"\n",
    "        \"\\n\"\n",
    "        \"당신의 작업은 다음과 같습니다:\\n\"\n",
    "        \"1. 주어진 질문을 정확히 풀기 위해 필요한 정보를 담은 `보조 문서`를 생성합니다.\\n\"\n",
    "        \"2. 질문과 관련이 없는 불필요한 정보를 제외합니다.\\n\"\n",
    "        \"\\n\"\n",
    "        \"### 제공된 내용:\\n\"\n",
    "        \"- 문단: {paragraph}\\n\"\n",
    "        \"- 질문: {question}\\n\"\n",
    "        \"- 보기: {choices}\\n\"\n",
    "        \"- 정답: {answer}\\n\"\n",
    "        \"\\n\"\n",
    "        \"### `보조 문서`:\\n\"\n",
    "    ).format(paragraph=paragraph, question=question, choices=choices, answer=answer)\n",
    "\n",
    "    try:\n",
    "        # GPT-4 API 호출\n",
    "        response = openai.ChatCompletion.create(\n",
    "            model=\"gpt-4o\",  # 사용할 모델 지정\n",
    "            messages=[\n",
    "                {\"role\": \"user\", \"content\": prompt},\n",
    "            ],\n",
    "        )\n",
    "        # Golden 문서 저장\n",
    "        golden_document = response[\"choices\"][0][\"message\"][\"content\"]\n",
    "    except (json.JSONDecodeError, openai.error.OpenAIError) as e:\n",
    "        print(f\"Error processing index {index}: {e}\")\n",
    "        golden_document = \"\"  # 빈 문자열로 처리\n",
    "\n",
    "    golden_documents.append(golden_document)"
   ]
  },
  {
   "cell_type": "code",
   "execution_count": null,
   "metadata": {},
   "outputs": [
    {
     "data": {
      "text/plain": [
       "'`보조 문서`:\\n\\n조선 후기 중앙집권화를 추진한 대표적인 인물로는 흥선대원군이 있습니다. 흥선대원군은 다양한 개혁 정책을 통해 왕권을 강화하고자 했습니다. 그의 주요 정책 중 하나는 서원 정리 정책으로, 방만하게 운영되던 서원을 철폐하여 국가의 재정과 권력을 강화하는 데 기여했습니다. 또한, 당시 조선의 재정난을 해결하기 위해 사창제를 실시했으며, 법령을 정비하여 \"대전회통\"이라는 법전을 편찬하기도 했습니다. 외세의 영향력을 막고자 대외적으로는 통상 수교 거부 정책을 추진했습니다. 그러나 비변사는 당시 이미 영향력을 줄이려는 움직임이 있었으며, 흥선대원군이 비변사의 기능을 강화했다는 기록은 없습니다.'"
      ]
     },
     "execution_count": 39,
     "metadata": {},
     "output_type": "execute_result"
    }
   ],
   "source": [
    "golden_documents"
   ]
  },
  {
   "cell_type": "code",
   "execution_count": null,
   "metadata": {},
   "outputs": [],
   "source": [
    "# bad_docs가 포함된 CSV 파일 로드\n",
    "input_file = \"data/train_v2.0.1_with_bad_docs.csv\"  # 원본 CSV 파일 경로\n",
    "output_file = \"data/train_v2.0.1_with_gold_bad_docs.csv\"  # 결과 저장 경로\n",
    "data = pd.read_csv(input_file)"
   ]
  },
  {
   "cell_type": "code",
   "execution_count": null,
   "metadata": {},
   "outputs": [],
   "source": [
    "data[\"golden\"] = golden_document"
   ]
  },
  {
   "cell_type": "code",
   "execution_count": null,
   "metadata": {},
   "outputs": [],
   "source": [
    "data.to_csv(output_file)"
   ]
  }
 ],
 "metadata": {
  "kernelspec": {
   "display_name": ".venv",
   "language": "python",
   "name": "python3"
  },
  "language_info": {
   "codemirror_mode": {
    "name": "ipython",
    "version": 3
   },
   "file_extension": ".py",
   "mimetype": "text/x-python",
   "name": "python",
   "nbconvert_exporter": "python",
   "pygments_lexer": "ipython3",
   "version": "3.12.4"
  }
 },
 "nbformat": 4,
 "nbformat_minor": 2
}
