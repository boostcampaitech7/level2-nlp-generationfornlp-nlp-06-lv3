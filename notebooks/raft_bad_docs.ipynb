{
 "cells": [
  {
   "cell_type": "markdown",
   "metadata": {},
   "source": [
    "## RAFT 학습용 Bad documents 선별 작업\n"
   ]
  },
  {
   "cell_type": "code",
   "execution_count": null,
   "metadata": {},
   "outputs": [],
   "source": [
    "import sys\n",
    "import os\n",
    "\n",
    "# 현재 스크립트의 디렉토리 기준으로 상위 폴더 경로 추가\n",
    "sys.path.append(os.path.abspath(\"../\"))"
   ]
  },
  {
   "cell_type": "code",
   "execution_count": 3,
   "metadata": {},
   "outputs": [],
   "source": [
    "import numpy as np\n",
    "import pandas as pd\n",
    "import pinecone\n",
    "from tqdm import tqdm\n",
    "\n",
    "from utils import get_pinecone_index"
   ]
  },
  {
   "cell_type": "code",
   "execution_count": null,
   "metadata": {},
   "outputs": [
    {
     "name": "stdout",
     "output_type": "stream",
     "text": [
      "Connected to Pinecone index: sling-chunk\n"
     ]
    }
   ],
   "source": [
    "# Pinecone index 연결\n",
    "pinecone_index, index_name = get_pinecone_index()"
   ]
  },
  {
   "cell_type": "code",
   "execution_count": null,
   "metadata": {},
   "outputs": [],
   "source": [
    "# bad_docs 추가할 CSV 파일 로드\n",
    "input_file = \"data/train_v2.0.1.csv\"  # 원본 CSV 파일 경로\n",
    "output_file = \"data/train_v2.0.1_with_bad_docs.csv\"  # 결과 저장 경로\n",
    "data = pd.read_csv(input_file)"
   ]
  },
  {
   "cell_type": "code",
   "execution_count": null,
   "metadata": {},
   "outputs": [],
   "source": [
    "# 임의 벡터 생성 함수\n",
    "def generate_random_vector(dim=1024):\n",
    "    \"\"\"512차원의 랜덤 벡터 생성\"\"\"\n",
    "    return np.random.rand(dim).tolist()"
   ]
  },
  {
   "cell_type": "code",
   "execution_count": null,
   "metadata": {},
   "outputs": [
    {
     "name": "stderr",
     "output_type": "stream",
     "text": [
      "Processing Bad Documents: 100%|██████████| 1627/1627 [05:36<00:00,  4.83it/s]\n"
     ]
    }
   ],
   "source": [
    "# 결과 저장 리스트\n",
    "bad_docs = []\n",
    "\n",
    "# tqdm을 사용해 진행 상황 표시\n",
    "for _, row in tqdm(data.iterrows(), total=len(data), desc=\"Processing Bad Documents\"):\n",
    "    try:\n",
    "        # 랜덤 벡터 생성\n",
    "        random_vector = generate_random_vector()\n",
    "\n",
    "        # Pinecone에서 쿼리 실행\n",
    "        results = pinecone_index.query(\n",
    "            vector=random_vector, top_k=1, include_metadata=True  # 랜덤 벡터로 검색  # 1개의 문서만 가져오기\n",
    "        )\n",
    "\n",
    "        # 검색 결과 처리\n",
    "        if results and \"matches\" in results and len(results[\"matches\"]) > 0:\n",
    "            bad_doc = results[\"matches\"][0][\"metadata\"][\"text\"]  # 첫 번째 문서 텍스트\n",
    "        else:\n",
    "            bad_doc = \"No document found\"  # 검색 결과가 없을 경우 기본값\n",
    "    except Exception as e:\n",
    "        print(f\"Error processing row {row.get('id', 'unknown')}: {e}\")\n",
    "        bad_doc = \"Error occurred while retrieving document\"\n",
    "\n",
    "    # 결과 리스트에 추가\n",
    "    bad_docs.append(bad_doc)"
   ]
  },
  {
   "cell_type": "code",
   "execution_count": null,
   "metadata": {},
   "outputs": [
    {
     "data": {
      "text/plain": [
       "'영국과 프랑스가 합의에 나섰지만, 덴마크가 공국의 분할에 끝까지 반대하여 협상은 실패하였고, 결국 10월 빈 조약이 체결되어 두 공국은 오스트리아와 프로이센에 넘겨졌다. 이후 가슈타인 협정에 따라 슐레스비히 공국은 프로이센이, 홀슈타인 공국은 오스트리아가 차지하게 된다. 또한 홀슈타인 남부의 라우엔부르크 공국은 프로이센령이 되었다. 이로 인하여 프로이센의 월경지가 오스트리아 내부에 존재하게 되는 문제가 생겨났으며 프로이센이 주도하는 북독일에 한정한 독일 통일에도 오스트리아가 걸림돌이 되어버렸다.'"
      ]
     },
     "execution_count": 37,
     "metadata": {},
     "output_type": "execute_result"
    }
   ],
   "source": [
    "bad_docs[0]"
   ]
  },
  {
   "cell_type": "code",
   "execution_count": null,
   "metadata": {},
   "outputs": [],
   "source": [
    "# bad_docs 리스트를 새로운 열로 추가\n",
    "data[\"bad_docs2\"] = bad_docs"
   ]
  },
  {
   "cell_type": "code",
   "execution_count": null,
   "metadata": {},
   "outputs": [
    {
     "data": {
      "text/html": [
       "<div>\n",
       "<style scoped>\n",
       "    .dataframe tbody tr th:only-of-type {\n",
       "        vertical-align: middle;\n",
       "    }\n",
       "\n",
       "    .dataframe tbody tr th {\n",
       "        vertical-align: top;\n",
       "    }\n",
       "\n",
       "    .dataframe thead th {\n",
       "        text-align: right;\n",
       "    }\n",
       "</style>\n",
       "<table border=\"1\" class=\"dataframe\">\n",
       "  <thead>\n",
       "    <tr style=\"text-align: right;\">\n",
       "      <th></th>\n",
       "      <th>id</th>\n",
       "      <th>paragraph</th>\n",
       "      <th>question</th>\n",
       "      <th>choices</th>\n",
       "      <th>answer</th>\n",
       "      <th>question_plus</th>\n",
       "      <th>bad_docs</th>\n",
       "      <th>bad_docs2</th>\n",
       "    </tr>\n",
       "  </thead>\n",
       "  <tbody>\n",
       "    <tr>\n",
       "      <th>0</th>\n",
       "      <td>generation-for-nlp-425</td>\n",
       "      <td>상소하여 아뢰기를 , “신이 좌참 찬 송준길이 올린 차자를 보았는데 , 상복(喪服)...</td>\n",
       "      <td>상소한 인물이 속한 붕당에 대한 설명으로 옳은 것만을 모두 고르면?</td>\n",
       "      <td>['ㄱ, ㄴ', 'ㄱ, ㄷ', 'ㄴ, ㄹ', 'ㄷ, ㄹ']</td>\n",
       "      <td>2</td>\n",
       "      <td>ㄱ.기 사환국으로 정권을 장악하였다 .ㄴ.인 조반정을 주도 하여 집권세력이 되었다 ...</td>\n",
       "      <td>사학연금\\n사립학교교직원연금공단으로부터 받은 ‘사학 퇴직연금 수급자 현황’ 자료에 ...</td>\n",
       "      <td>영국과 프랑스가 합의에 나섰지만, 덴마크가 공국의 분할에 끝까지 반대하여 협상은 실...</td>\n",
       "    </tr>\n",
       "    <tr>\n",
       "      <th>1</th>\n",
       "      <td>generation-for-nlp-427</td>\n",
       "      <td>나는 삼한(三韓) 산천의 음덕을 입어 대업을 이루었다.(가)는/은 수덕(水德)이 순...</td>\n",
       "      <td>(가) 지역에 대한 설명으로 옳은 것은?</td>\n",
       "      <td>['이곳에 대장도감을 설치하여 재조대장경을 만들었다.', '지눌이 이곳에서 수선사 ...</td>\n",
       "      <td>4</td>\n",
       "      <td>NaN</td>\n",
       "      <td>「임차료지급보증」\\n월세임대차계약을 체결한 임차인이 임대인에 지급하여야 할 월 임대...</td>\n",
       "      <td>인도\\n인도 국민의 약 68%가 종사하는 농업은 자급적 성격이 강한 인도의 가장 중...</td>\n",
       "    </tr>\n",
       "    <tr>\n",
       "      <th>2</th>\n",
       "      <td>generation-for-nlp-428</td>\n",
       "      <td>이 날 소정방이 부총관 김인문 등과 함께 기 벌포에 도착하여 백제 군사와 마주쳤다....</td>\n",
       "      <td>밑줄 친 ‘그’에 대한 설명으로 옳은 것은?</td>\n",
       "      <td>['살수에서 수의 군대를 물리쳤다 .', '김춘추 의 신라 왕위 계승을 지원하였다 ...</td>\n",
       "      <td>2</td>\n",
       "      <td>NaN</td>\n",
       "      <td>종류\\n아이스크림 콘(Ice cream Cone): 아이스크림을 콘에 담은 것이다....</td>\n",
       "      <td>나카무라는 미국에서 연구를 계속하기 위해 형편상 미국 시민권을 취득했는데 노벨상 수...</td>\n",
       "    </tr>\n",
       "    <tr>\n",
       "      <th>3</th>\n",
       "      <td>generation-for-nlp-429</td>\n",
       "      <td>선비들 수만 명이 대궐 앞에 모여 만 동묘와 서원을 다시 설립할 것을 청하니, (가...</td>\n",
       "      <td>(가) 인물이 추진한 정책으로 옳지 않은 것은?</td>\n",
       "      <td>['사창제를 실시하였다 .', '대전회통을 편찬하였다 .', '비변사의 기능을 강화...</td>\n",
       "      <td>3</td>\n",
       "      <td>NaN</td>\n",
       "      <td>연혁\\n연표 (도쿄 대학 창설 후)\\n1877년 4월 - 도쿄 대학 창설.\\n187...</td>\n",
       "      <td>위하여 필수적인 주거공간을 마련하기 위한 것이라면 일상의 가사에 속한다고 볼 여지가...</td>\n",
       "    </tr>\n",
       "    <tr>\n",
       "      <th>4</th>\n",
       "      <td>generation-for-nlp-431</td>\n",
       "      <td>(가)의 사신 고제덕 등이 일본에 와서 왕이 보낸 국서를 전하였다. 그 국서에 이르...</td>\n",
       "      <td>(가) 국가에 대한 설명으로 옳은 것은?</td>\n",
       "      <td>['나 당연합군의 공격으로 멸망하였다 .', '9주 5소경의 지방 행정 구역을 두었...</td>\n",
       "      <td>3</td>\n",
       "      <td>NaN</td>\n",
       "      <td>곤충의 생식계는 생식선(生殖腺)과 생식관, 부속샘[腺]들로 이루어져 있다.\\n곤충의...</td>\n",
       "      <td>at high temperature and high pressure to cause...</td>\n",
       "    </tr>\n",
       "  </tbody>\n",
       "</table>\n",
       "</div>"
      ],
      "text/plain": [
       "                       id                                          paragraph  \\\n",
       "0  generation-for-nlp-425  상소하여 아뢰기를 , “신이 좌참 찬 송준길이 올린 차자를 보았는데 , 상복(喪服)...   \n",
       "1  generation-for-nlp-427  나는 삼한(三韓) 산천의 음덕을 입어 대업을 이루었다.(가)는/은 수덕(水德)이 순...   \n",
       "2  generation-for-nlp-428  이 날 소정방이 부총관 김인문 등과 함께 기 벌포에 도착하여 백제 군사와 마주쳤다....   \n",
       "3  generation-for-nlp-429  선비들 수만 명이 대궐 앞에 모여 만 동묘와 서원을 다시 설립할 것을 청하니, (가...   \n",
       "4  generation-for-nlp-431  (가)의 사신 고제덕 등이 일본에 와서 왕이 보낸 국서를 전하였다. 그 국서에 이르...   \n",
       "\n",
       "                                question  \\\n",
       "0  상소한 인물이 속한 붕당에 대한 설명으로 옳은 것만을 모두 고르면?   \n",
       "1                 (가) 지역에 대한 설명으로 옳은 것은?   \n",
       "2               밑줄 친 ‘그’에 대한 설명으로 옳은 것은?   \n",
       "3             (가) 인물이 추진한 정책으로 옳지 않은 것은?   \n",
       "4                 (가) 국가에 대한 설명으로 옳은 것은?   \n",
       "\n",
       "                                             choices  answer  \\\n",
       "0                   ['ㄱ, ㄴ', 'ㄱ, ㄷ', 'ㄴ, ㄹ', 'ㄷ, ㄹ']       2   \n",
       "1  ['이곳에 대장도감을 설치하여 재조대장경을 만들었다.', '지눌이 이곳에서 수선사 ...       4   \n",
       "2  ['살수에서 수의 군대를 물리쳤다 .', '김춘추 의 신라 왕위 계승을 지원하였다 ...       2   \n",
       "3  ['사창제를 실시하였다 .', '대전회통을 편찬하였다 .', '비변사의 기능을 강화...       3   \n",
       "4  ['나 당연합군의 공격으로 멸망하였다 .', '9주 5소경의 지방 행정 구역을 두었...       3   \n",
       "\n",
       "                                       question_plus  \\\n",
       "0  ㄱ.기 사환국으로 정권을 장악하였다 .ㄴ.인 조반정을 주도 하여 집권세력이 되었다 ...   \n",
       "1                                                NaN   \n",
       "2                                                NaN   \n",
       "3                                                NaN   \n",
       "4                                                NaN   \n",
       "\n",
       "                                            bad_docs  \\\n",
       "0  사학연금\\n사립학교교직원연금공단으로부터 받은 ‘사학 퇴직연금 수급자 현황’ 자료에 ...   \n",
       "1  「임차료지급보증」\\n월세임대차계약을 체결한 임차인이 임대인에 지급하여야 할 월 임대...   \n",
       "2  종류\\n아이스크림 콘(Ice cream Cone): 아이스크림을 콘에 담은 것이다....   \n",
       "3  연혁\\n연표 (도쿄 대학 창설 후)\\n1877년 4월 - 도쿄 대학 창설.\\n187...   \n",
       "4  곤충의 생식계는 생식선(生殖腺)과 생식관, 부속샘[腺]들로 이루어져 있다.\\n곤충의...   \n",
       "\n",
       "                                           bad_docs2  \n",
       "0  영국과 프랑스가 합의에 나섰지만, 덴마크가 공국의 분할에 끝까지 반대하여 협상은 실...  \n",
       "1  인도\\n인도 국민의 약 68%가 종사하는 농업은 자급적 성격이 강한 인도의 가장 중...  \n",
       "2  나카무라는 미국에서 연구를 계속하기 위해 형편상 미국 시민권을 취득했는데 노벨상 수...  \n",
       "3  위하여 필수적인 주거공간을 마련하기 위한 것이라면 일상의 가사에 속한다고 볼 여지가...  \n",
       "4  at high temperature and high pressure to cause...  "
      ]
     },
     "execution_count": 39,
     "metadata": {},
     "output_type": "execute_result"
    }
   ],
   "source": [
    "data.head()"
   ]
  },
  {
   "cell_type": "code",
   "execution_count": 40,
   "metadata": {},
   "outputs": [],
   "source": [
    "data.to_csv(output_file)"
   ]
  }
 ],
 "metadata": {
  "kernelspec": {
   "display_name": ".venv",
   "language": "python",
   "name": "python3"
  },
  "language_info": {
   "codemirror_mode": {
    "name": "ipython",
    "version": 3
   },
   "file_extension": ".py",
   "mimetype": "text/x-python",
   "name": "python",
   "nbconvert_exporter": "python",
   "pygments_lexer": "ipython3",
   "version": "3.12.4"
  }
 },
 "nbformat": 4,
 "nbformat_minor": 2
}
