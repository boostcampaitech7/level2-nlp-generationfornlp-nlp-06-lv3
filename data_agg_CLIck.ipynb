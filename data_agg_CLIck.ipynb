{
 "cells": [
  {
   "cell_type": "markdown",
   "metadata": {},
   "source": [
    "## Import\n"
   ]
  },
  {
   "cell_type": "code",
   "execution_count": 8,
   "metadata": {},
   "outputs": [],
   "source": [
    "import pandas as pd\n",
    "import os\n",
    "import json\n",
    "from glob import glob"
   ]
  },
  {
   "cell_type": "markdown",
   "metadata": {},
   "source": [
    "## CLIck json 파일 읽어오는 함수 정의\n"
   ]
  },
  {
   "cell_type": "code",
   "execution_count": 9,
   "metadata": {},
   "outputs": [
    {
     "name": "stdout",
     "output_type": "stream",
     "text": [
      "read file at [data/CLIcK/Culture/Korean Popular/Popular_KIIP.json]\n"
     ]
    },
    {
     "data": {
      "text/html": [
       "<div>\n",
       "<style scoped>\n",
       "    .dataframe tbody tr th:only-of-type {\n",
       "        vertical-align: middle;\n",
       "    }\n",
       "\n",
       "    .dataframe tbody tr th {\n",
       "        vertical-align: top;\n",
       "    }\n",
       "\n",
       "    .dataframe thead th {\n",
       "        text-align: right;\n",
       "    }\n",
       "</style>\n",
       "<table border=\"1\" class=\"dataframe\">\n",
       "  <thead>\n",
       "    <tr style=\"text-align: right;\">\n",
       "      <th></th>\n",
       "      <th>id</th>\n",
       "      <th>paragraph</th>\n",
       "      <th>question</th>\n",
       "      <th>question_plus</th>\n",
       "      <th>choices</th>\n",
       "      <th>answer</th>\n",
       "      <th>answer_text</th>\n",
       "    </tr>\n",
       "  </thead>\n",
       "  <tbody>\n",
       "    <tr>\n",
       "      <th>0</th>\n",
       "      <td>KIIP_popular_1</td>\n",
       "      <td></td>\n",
       "      <td>다음은 한국의 대중문화에 대한 문제이다.\\n한국에서 대중적으로 국제 경기에서 좋은 ...</td>\n",
       "      <td></td>\n",
       "      <td>[양궁, 태권도, 쇼트트랙, 스피드 스케이팅, 야구, 축구, 농구, 양궁, 쇼트트랙...</td>\n",
       "      <td>1</td>\n",
       "      <td>양궁, 태권도, 쇼트트랙, 스피드 스케이팅</td>\n",
       "    </tr>\n",
       "    <tr>\n",
       "      <th>1</th>\n",
       "      <td>KIIP_popular_2</td>\n",
       "      <td></td>\n",
       "      <td>다음은 한국의 대중문화에 대한 문제이다.\\n한국에서 대중적으로 국내에서 인기가 높은...</td>\n",
       "      <td></td>\n",
       "      <td>[야구, 축구, 태권도, 쇼트트랙, 스피드 스케이팅, 양궁,사격]</td>\n",
       "      <td>1</td>\n",
       "      <td>야구, 축구</td>\n",
       "    </tr>\n",
       "    <tr>\n",
       "      <th>2</th>\n",
       "      <td>KIIP_popular_3</td>\n",
       "      <td></td>\n",
       "      <td>다음은 한국의 대중문화에 대한 문제이다.\\n한국인들이 주로 즐기는 대중 음악 장르에...</td>\n",
       "      <td></td>\n",
       "      <td>[가곡, 트로트, 발라드, R&amp;B, 클래식, 재즈, 블루스, 록, 포크, 캐롤, 오...</td>\n",
       "      <td>1</td>\n",
       "      <td>가곡, 트로트, 발라드, R&amp;B</td>\n",
       "    </tr>\n",
       "    <tr>\n",
       "      <th>3</th>\n",
       "      <td>KIIP_popular_4</td>\n",
       "      <td></td>\n",
       "      <td>다음은 한국의 대중문화에 대한 문제이다.\\n아이돌 스타란 무엇인가?</td>\n",
       "      <td></td>\n",
       "      <td>[우상처럼 떠받들어지며 큰 인기를 끌고 있는 가수, 영화나 드라마에서 주연을 맡는 ...</td>\n",
       "      <td>1</td>\n",
       "      <td>우상처럼 떠받들어지며 큰 인기를 끌고 있는 가수</td>\n",
       "    </tr>\n",
       "    <tr>\n",
       "      <th>4</th>\n",
       "      <td>KIIP_popular_5</td>\n",
       "      <td></td>\n",
       "      <td>다음은 한국의 대중문화에 대한 문제이다.\\n전국민의 관심을 받는 드라마를 무엇이라고...</td>\n",
       "      <td></td>\n",
       "      <td>[히트 드라마, 블록버스터 드라마, 국민 드라마, 메가히트 드라마]</td>\n",
       "      <td>3</td>\n",
       "      <td>국민 드라마</td>\n",
       "    </tr>\n",
       "  </tbody>\n",
       "</table>\n",
       "</div>"
      ],
      "text/plain": [
       "               id paragraph  \\\n",
       "0  KIIP_popular_1             \n",
       "1  KIIP_popular_2             \n",
       "2  KIIP_popular_3             \n",
       "3  KIIP_popular_4             \n",
       "4  KIIP_popular_5             \n",
       "\n",
       "                                            question question_plus  \\\n",
       "0  다음은 한국의 대중문화에 대한 문제이다.\\n한국에서 대중적으로 국제 경기에서 좋은 ...                 \n",
       "1  다음은 한국의 대중문화에 대한 문제이다.\\n한국에서 대중적으로 국내에서 인기가 높은...                 \n",
       "2  다음은 한국의 대중문화에 대한 문제이다.\\n한국인들이 주로 즐기는 대중 음악 장르에...                 \n",
       "3              다음은 한국의 대중문화에 대한 문제이다.\\n아이돌 스타란 무엇인가?                 \n",
       "4  다음은 한국의 대중문화에 대한 문제이다.\\n전국민의 관심을 받는 드라마를 무엇이라고...                 \n",
       "\n",
       "                                             choices  answer  \\\n",
       "0  [양궁, 태권도, 쇼트트랙, 스피드 스케이팅, 야구, 축구, 농구, 양궁, 쇼트트랙...       1   \n",
       "1               [야구, 축구, 태권도, 쇼트트랙, 스피드 스케이팅, 양궁,사격]       1   \n",
       "2  [가곡, 트로트, 발라드, R&B, 클래식, 재즈, 블루스, 록, 포크, 캐롤, 오...       1   \n",
       "3  [우상처럼 떠받들어지며 큰 인기를 끌고 있는 가수, 영화나 드라마에서 주연을 맡는 ...       1   \n",
       "4              [히트 드라마, 블록버스터 드라마, 국민 드라마, 메가히트 드라마]       3   \n",
       "\n",
       "                  answer_text  \n",
       "0     양궁, 태권도, 쇼트트랙, 스피드 스케이팅  \n",
       "1                      야구, 축구  \n",
       "2           가곡, 트로트, 발라드, R&B  \n",
       "3  우상처럼 떠받들어지며 큰 인기를 끌고 있는 가수  \n",
       "4                      국민 드라마  "
      ]
     },
     "execution_count": 9,
     "metadata": {},
     "output_type": "execute_result"
    }
   ],
   "source": [
    "def process_CLIck_data_from_file(file_path):\n",
    "    print(\"read file at [\" + file_path + \"]\")\n",
    "    with open(file_path, \"r\", encoding=\"utf-8\") as file:\n",
    "        data = json.load(file)\n",
    "\n",
    "    # 'CSAT' 수능 시험 문제 제외하기 - 혹시 몰라 추가\n",
    "    filtered_data = [item for item in data if not item[\"id\"].startswith(\"CSAT\")]\n",
    "\n",
    "    df = pd.DataFrame(filtered_data)\n",
    "\n",
    "    # 기타 행 처리\n",
    "    df[\"question_plus\"] = \"\"\n",
    "    df[\"answer_text\"] = df[\"answer\"]  # 정답 올바른 위치로 들어가는지 확인 용\n",
    "    df[\"answer\"] = df.apply(lambda row: row[\"choices\"].index(row[\"answer\"]) + 1, axis=1)\n",
    "\n",
    "    return df[[\"id\", \"paragraph\", \"question\", \"question_plus\", \"choices\", \"answer\", \"answer_text\"]]\n",
    "\n",
    "\n",
    "# 사용 예시\n",
    "file_path = \"data/CLIcK/Culture/Korean Popular/Popular_KIIP.json\"\n",
    "df = process_CLIck_data_from_file(file_path)\n",
    "df.head()"
   ]
  },
  {
   "cell_type": "code",
   "execution_count": 28,
   "metadata": {},
   "outputs": [
    {
     "name": "stdout",
     "output_type": "stream",
     "text": [
      "read file at [data/CLIcK/Culture/Korean Geography/Geography_Kedu.json]\n",
      "read file at [data/CLIcK/Culture/Korean Geography/Geography_KIIP.json]\n"
     ]
    },
    {
     "data": {
      "text/plain": [
       "dict_keys(['Geography_Kedu.json', 'Geography_KIIP.json'])"
      ]
     },
     "execution_count": 28,
     "metadata": {},
     "output_type": "execute_result"
    }
   ],
   "source": [
    "# 폴더 하위의 모든 JSON 파일을 처리하는 함수\n",
    "def process_all_json_files(folder_path):\n",
    "    # 폴더 내 모든 JSON 파일 경로 가져오기\n",
    "    json_files = glob(os.path.join(folder_path, \"**\", \"*.json\"), recursive=True)\n",
    "\n",
    "    # 'CSAT' 수능 시험 문제 제외\n",
    "    filtered_json_files = [file for file in json_files if \"CSAT\" not in os.path.basename(file)]\n",
    "\n",
    "    all_dataframes = {}\n",
    "\n",
    "    # 각 파일을 읽고 df로 만든 뒤 리스트에 추가\n",
    "    for file_path in filtered_json_files:\n",
    "        df = process_CLIck_data_from_file(file_path)\n",
    "        all_dataframes[str(file_path).split(\"/\")[-1]] = df\n",
    "\n",
    "    # 리스트에 추가된 모든 df를 하나로 합침\n",
    "    # final_df = pd.concat(all_dataframes, ignore_index=True)\n",
    "\n",
    "    return all_dataframes\n",
    "\n",
    "\n",
    "# 사용 예시\n",
    "folder_path = \"data/CLIcK/Culture/Korean Geography\"\n",
    "Korean_Economy_df = process_all_json_files(folder_path)\n",
    "Korean_Economy_df.keys()"
   ]
  },
  {
   "cell_type": "code",
   "execution_count": 11,
   "metadata": {},
   "outputs": [
    {
     "name": "stdout",
     "output_type": "stream",
     "text": [
      "['Korean Popular', 'Korean Tradition', 'Korean Economy', 'Korean Geography', 'Korean Politics', 'Korean Law', 'Korean History', 'Korean Society']\n"
     ]
    }
   ],
   "source": [
    "# 하위 폴더 이름만 반환하는 함수\n",
    "def get_subfolder_names(parent_folder_path):\n",
    "    subfolder_names = [\n",
    "        subfolder\n",
    "        for subfolder in os.listdir(parent_folder_path)\n",
    "        if os.path.isdir(os.path.join(parent_folder_path, subfolder))\n",
    "    ]\n",
    "    return subfolder_names\n",
    "\n",
    "\n",
    "# 사용 예시\n",
    "parent_folder_path = \"data/CLIcK/Culture\"\n",
    "subfolders = get_subfolder_names(parent_folder_path)\n",
    "print(subfolders)"
   ]
  },
  {
   "cell_type": "markdown",
   "metadata": {},
   "source": [
    "## CLIck 대분류 하위 json 전부 읽어오는 함수\n"
   ]
  },
  {
   "cell_type": "code",
   "execution_count": 45,
   "metadata": {},
   "outputs": [],
   "source": [
    "def read_all_json_in_domain_as_dict(domain_folder_path):\n",
    "    subfolders = get_subfolder_names(domain_folder_path)\n",
    "    filtered_subfolders = [folder for folder in subfolders if folder != \"csv\"]\n",
    "\n",
    "    print(filtered_subfolders)\n",
    "    total_json_dict = {}\n",
    "    for subfolder_name in filtered_subfolders:\n",
    "        subfolder_path = domain_folder_path + \"/\" + subfolder_name\n",
    "        print(subfolder_path)\n",
    "        total_json_dict.update(process_all_json_files(subfolder_path))\n",
    "\n",
    "    return total_json_dict"
   ]
  },
  {
   "cell_type": "code",
   "execution_count": 46,
   "metadata": {},
   "outputs": [
    {
     "name": "stdout",
     "output_type": "stream",
     "text": [
      "['Korean Popular', 'Korean Tradition', 'Korean Economy', 'Korean Geography', 'Korean Politics', 'Korean Law', 'Korean History', 'Korean Society']\n",
      "data/CLIcK/Culture/Korean Popular\n",
      "read file at [data/CLIcK/Culture/Korean Popular/Popular_KIIP.json]\n",
      "read file at [data/CLIcK/Culture/Korean Popular/Popular_Kedu.json]\n",
      "data/CLIcK/Culture/Korean Tradition\n",
      "read file at [data/CLIcK/Culture/Korean Tradition/Tradition_Kedu.json]\n",
      "read file at [data/CLIcK/Culture/Korean Tradition/Tradition_KIIP.json]\n",
      "data/CLIcK/Culture/Korean Economy\n",
      "read file at [data/CLIcK/Culture/Korean Economy/Economy_KIIP.json]\n",
      "read file at [data/CLIcK/Culture/Korean Economy/Economy_Kedu.json]\n",
      "data/CLIcK/Culture/Korean Geography\n",
      "read file at [data/CLIcK/Culture/Korean Geography/Geography_Kedu.json]\n",
      "read file at [data/CLIcK/Culture/Korean Geography/Geography_KIIP.json]\n",
      "data/CLIcK/Culture/Korean Politics\n",
      "read file at [data/CLIcK/Culture/Korean Politics/Politics_Kedu.json]\n",
      "read file at [data/CLIcK/Culture/Korean Politics/Politics_KIIP.json]\n",
      "data/CLIcK/Culture/Korean Law\n",
      "read file at [data/CLIcK/Culture/Korean Law/Law_PSAT.json]\n",
      "read file at [data/CLIcK/Culture/Korean Law/Law_KIIP.json]\n",
      "data/CLIcK/Culture/Korean History\n",
      "read file at [data/CLIcK/Culture/Korean History/History_PSE.json]\n",
      "read file at [data/CLIcK/Culture/Korean History/History_Kedu.json]\n",
      "read file at [data/CLIcK/Culture/Korean History/History_KHB.json]\n",
      "data/CLIcK/Culture/Korean Society\n",
      "read file at [data/CLIcK/Culture/Korean Society/Society_KIIP.json]\n",
      "read file at [data/CLIcK/Culture/Korean Society/Society_Kedu.json]\n"
     ]
    }
   ],
   "source": [
    "# 사용 예시 1\n",
    "CLIck_Culture_path = \"data/CLIcK/Culture\"\n",
    "CLIck_Culture = read_all_json_in_domain_as_dict(CLIck_Culture_path)"
   ]
  },
  {
   "cell_type": "code",
   "execution_count": 33,
   "metadata": {},
   "outputs": [
    {
     "name": "stdout",
     "output_type": "stream",
     "text": [
      "['Grammar', 'Textual', 'Functional']\n",
      "data/CLIcK/Language/Grammar\n",
      "read file at [data/CLIcK/Language/Grammar/Grammar_TOPIK.json]\n",
      "read file at [data/CLIcK/Language/Grammar/Grammar_Kedu.json]\n",
      "data/CLIcK/Language/Textual\n",
      "read file at [data/CLIcK/Language/Textual/Textual_TOPIK.json]\n",
      "data/CLIcK/Language/Functional\n",
      "read file at [data/CLIcK/Language/Functional/Functional_Kedu.json]\n",
      "read file at [data/CLIcK/Language/Functional/Functional_PSE.json]\n"
     ]
    }
   ],
   "source": [
    "# 사용 예시 2\n",
    "CLIck_Language_path = \"data/CLIcK/Language\"\n",
    "CLIck_Language = read_all_json_in_domain_as_dict(CLIck_Language_path)"
   ]
  },
  {
   "cell_type": "markdown",
   "metadata": {},
   "source": [
    "## 각 df 별 csv로 추출\n"
   ]
  },
  {
   "cell_type": "code",
   "execution_count": 36,
   "metadata": {},
   "outputs": [],
   "source": [
    "def save_total_dict_to_csv(dict, save_path: str):\n",
    "    if not os.path.exists(save_path):\n",
    "        os.makedirs(save_path)\n",
    "\n",
    "    total_df = pd.DataFrame()\n",
    "\n",
    "    for key, value in dict.items():\n",
    "        value.to_csv(save_path + key + \".csv\", index=False)\n",
    "        print(\"Saved \" + save_path + key + \".csv\")\n",
    "        total_df = pd.concat([total_df, value])\n",
    "\n",
    "    total_df.to_csv(save_path + \"Total.csv\", index=False)"
   ]
  },
  {
   "cell_type": "code",
   "execution_count": 37,
   "metadata": {},
   "outputs": [
    {
     "name": "stdout",
     "output_type": "stream",
     "text": [
      "Saved data/CLIcK/Culture/csv/Popular_KIIP.json.csv\n",
      "Saved data/CLIcK/Culture/csv/Popular_Kedu.json.csv\n",
      "Saved data/CLIcK/Culture/csv/Tradition_Kedu.json.csv\n",
      "Saved data/CLIcK/Culture/csv/Tradition_KIIP.json.csv\n",
      "Saved data/CLIcK/Culture/csv/Economy_KIIP.json.csv\n",
      "Saved data/CLIcK/Culture/csv/Economy_Kedu.json.csv\n",
      "Saved data/CLIcK/Culture/csv/Geography_Kedu.json.csv\n",
      "Saved data/CLIcK/Culture/csv/Geography_KIIP.json.csv\n",
      "Saved data/CLIcK/Culture/csv/Politics_Kedu.json.csv\n",
      "Saved data/CLIcK/Culture/csv/Politics_KIIP.json.csv\n",
      "Saved data/CLIcK/Culture/csv/Law_PSAT.json.csv\n",
      "Saved data/CLIcK/Culture/csv/Law_KIIP.json.csv\n",
      "Saved data/CLIcK/Culture/csv/History_PSE.json.csv\n",
      "Saved data/CLIcK/Culture/csv/History_Kedu.json.csv\n",
      "Saved data/CLIcK/Culture/csv/History_KHB.json.csv\n",
      "Saved data/CLIcK/Culture/csv/Society_KIIP.json.csv\n",
      "Saved data/CLIcK/Culture/csv/Society_Kedu.json.csv\n"
     ]
    }
   ],
   "source": [
    "save_total_dict_to_csv(CLIck_Culture, CLIck_Culture_path + \"/csv/\")"
   ]
  },
  {
   "cell_type": "code",
   "execution_count": 38,
   "metadata": {},
   "outputs": [
    {
     "name": "stdout",
     "output_type": "stream",
     "text": [
      "Saved data/CLIcK/Language/csv/Grammar_TOPIK.json.csv\n",
      "Saved data/CLIcK/Language/csv/Grammar_Kedu.json.csv\n",
      "Saved data/CLIcK/Language/csv/Textual_TOPIK.json.csv\n",
      "Saved data/CLIcK/Language/csv/Functional_Kedu.json.csv\n",
      "Saved data/CLIcK/Language/csv/Functional_PSE.json.csv\n"
     ]
    }
   ],
   "source": [
    "save_total_dict_to_csv(CLIck_Language, CLIck_Language_path + \"/csv/\")"
   ]
  }
 ],
 "metadata": {
  "kernelspec": {
   "display_name": ".venv",
   "language": "python",
   "name": "python3"
  },
  "language_info": {
   "codemirror_mode": {
    "name": "ipython",
    "version": 3
   },
   "file_extension": ".py",
   "mimetype": "text/x-python",
   "name": "python",
   "nbconvert_exporter": "python",
   "pygments_lexer": "ipython3",
   "version": "3.10.13"
  }
 },
 "nbformat": 4,
 "nbformat_minor": 2
}
