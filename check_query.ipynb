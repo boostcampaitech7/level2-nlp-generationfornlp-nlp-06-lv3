{
 "cells": [
  {
   "cell_type": "markdown",
   "metadata": {},
   "source": [
    "### Import 및 전처리\n"
   ]
  },
  {
   "cell_type": "code",
   "execution_count": null,
   "metadata": {},
   "outputs": [],
   "source": [
    "from ast import literal_eval\n",
    "\n",
    "import pandas as pd\n",
    "from langchain_community.embeddings import HuggingFaceBgeEmbeddings\n",
    "from langchain_pinecone import PineconeVectorStore\n",
    "\n",
    "from rag_modules import *\n",
    "from utils import get_pinecone_index"
   ]
  },
  {
   "cell_type": "code",
   "execution_count": null,
   "metadata": {},
   "outputs": [],
   "source": [
    "def read_csv(file_path: str) -> pd.DataFrame:\n",
    "    df = pd.read_csv(file_path)\n",
    "\n",
    "    df[\"question_plus\"] = df[\"question_plus\"].fillna(\" \")\n",
    "    df[\"choices\"] = df[\"choices\"].apply(literal_eval)\n",
    "    df[\"choices_text\"] = df[\"choices\"].apply(lambda x: \" \".join(x))\n",
    "\n",
    "    if \"keyword_1\" in df.columns:\n",
    "        df[\"keywords\"] = df[[\"keyword_1\", \"keyword_2\", \"keyword_3\", \"keyword_4\", \"keyword_5\"]].apply(\n",
    "            lambda row: row.tolist(), axis=1\n",
    "        )\n",
    "\n",
    "    if \"keyword_1_exists\" in df.columns:\n",
    "        df[\"keywords_exists\"] = df[\n",
    "            [\"keyword_1_exists\", \"keyword_2_exists\", \"keyword_3_exists\", \"keyword_4_exists\", \"keyword_5_exists\"]\n",
    "        ].apply(lambda row: row.astype(int).tolist(), axis=1)\n",
    "\n",
    "    return df"
   ]
  },
  {
   "cell_type": "markdown",
   "metadata": {},
   "source": [
    "### 실험이 가능한 함수 리스트\n",
    "\n",
    "- tf_idf_query_builder\n",
    "- original_paragraph_query_builder\n",
    "- original_question_query_builder\n",
    "- original_choices_query_builder\n",
    "- original_question_plus_query_builder\n",
    "- original_summarization_query_builder\n",
    "- original_keywords_query_builder\n",
    "- original_exist_keywords_query_builder\n"
   ]
  },
  {
   "cell_type": "code",
   "execution_count": null,
   "metadata": {},
   "outputs": [
    {
     "name": "stdout",
     "output_type": "stream",
     "text": [
      "Connected to Pinecone index: gen-nlp-bge-m3\n",
      "Builded Query:\n",
      "삼한 수덕 고려사 봉기\n",
      "Retrieved Documents:\n",
      "1. (중국어) 세친 조, 현장 한역 (T.1558). 《아비달마구사론(阿毘達磨俱舍論)》. 대정신수대장경. T29, No. 1558, CBETA.  \n",
      "(중국어) 호법 등 지음, 현장 한역 (T.1585). 《성유식론(成唯識論)》. 대정신수대장경. T31, No. 1585, CBETA.\n",
      "   Metadata: {'chunk_index': 6.0, 'document_id': '내외', 'page_index': 415.0}\n",
      "2. (중국어) 세친 조, 현장 한역 (T.1558). 《아비달마구사론(阿毘達磨俱舍論)》. 대정신수대장경. T29, No. 1558, CBETA.  \n",
      "(중국어) 호법 등 지음, 현장 한역 (T.1585). 《성유식론(成唯識論)》. 대정신수대장경. T31, No. 1585, CBETA.\n",
      "   Metadata: {'chunk_index': 6.0, 'document_id': '내외', 'page_index': 416.0}\n",
      "3. 같이 보기\n",
      "폭행위협\n",
      "대한민국 형법 제260조\n",
      "\n",
      "참고 문헌\n",
      "서철원,《미국 불법행위법》,법원사, 2005. (ISBN 89-91512-01-1)\n",
      "이상윤,《영미법》,박영사, 2003.\n",
      "Black's Law Dictionary, 1486 (8th ed. 2004).\n",
      "   Metadata: {'chunk_index': 8.0, 'document_id': '폭행죄', 'page_index': 369.0}\n",
      "4. 서적\n",
      "탁양현 (2020). 《자유민주주의 사회민주주의 인민민주주의: 대한민국은 자유민주주의 국가다》. 키메이커. 36쪽. ISBN 979-11-6569-118-9  – e퍼플 경유.  \n",
      "이희진 (2004년 9월 1일). 〈4. 백제의 패배인가? | 관산성 전투〉. 《전쟁의 발견 -한국 고대사의 재구성을 위하여-》. 동아시아. ISBN 9788988165461. \n",
      "KBS역사스페셜 (2003). 《역사스페셜6》. 효형출판. ISBN 8986361841. \n",
      "서영교 (2009). 《신라인 이야기》. 살림. ISBN 9788952210739. \n",
      "연민수 (1998). 《일본역사》. 보고사. ISBN 89-86142-81-3. \n",
      "박복원 (2004). 《일본정보뱅크》. 백산출판사. ISBN 8977396271. \n",
      "김성호; 김상한 (2008). 《한중일 국가기원과 그 역사》. 맑은소리. ISBN 9788980502219.\n",
      "   Metadata: {'chunk_index': 141.0, 'document_id': '신라', 'page_index': 154.0}\n",
      "5. 같이 보기\n",
      "\n",
      "아파리그라하\n",
      "금욕주의\n",
      "기독교 윤리\n",
      "도덕성\n",
      "칠죄종\n",
      "일곱 덕\n",
      "소프로시네\n",
      "덕 윤리학\n",
      "\n",
      "\n",
      "== 출처 ==\n",
      "   Metadata: {'chunk_index': 2.0, 'document_id': '절제', 'page_index': 236.0}\n"
     ]
    }
   ],
   "source": [
    "def rag_retrieval(row: pd.Series):\n",
    "    pinecone_index, index_name = get_pinecone_index()\n",
    "    embeddings = HuggingFaceBgeEmbeddings(model_name=\"BAAI/bge-m3\")\n",
    "    vector_store = PineconeVectorStore(index=pinecone_index, embedding=embeddings, text_key=\"text\")\n",
    "\n",
    "    # 수정이 필요한 부분\n",
    "    query_builder = original_exist_keywords_query_builder()\n",
    "\n",
    "    query = query_builder.build(row)\n",
    "    print(\"Builded Query:\")\n",
    "    print(query)\n",
    "    retrieved_docs = vector_store.similarity_search(query, k=5)  # k는 반환할 문서 개수\n",
    "    # 검색된 문서 출력\n",
    "    print(\"Retrieved Documents:\")\n",
    "    for i, doc in enumerate(retrieved_docs):\n",
    "        print(f\"{i + 1}. {doc.page_content}\")\n",
    "        print(f\"   Metadata: {doc.metadata}\")\n",
    "    print()\n",
    "\n",
    "\n",
    "if __name__ == \"__main__\":\n",
    "    df = read_csv(\"data/train_with_summarization.csv\")\n",
    "    row = df.iloc[1]\n",
    "    rag_retrieval(row)"
   ]
  }
 ],
 "metadata": {
  "kernelspec": {
   "display_name": ".venv",
   "language": "python",
   "name": "python3"
  },
  "language_info": {
   "codemirror_mode": {
    "name": "ipython",
    "version": 3
   },
   "file_extension": ".py",
   "mimetype": "text/x-python",
   "name": "python",
   "nbconvert_exporter": "python",
   "pygments_lexer": "ipython3",
   "version": "3.10.13"
  }
 },
 "nbformat": 4,
 "nbformat_minor": 2
}
